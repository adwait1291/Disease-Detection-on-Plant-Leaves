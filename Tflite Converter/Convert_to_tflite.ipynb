{
  "nbformat": 4,
  "nbformat_minor": 0,
  "metadata": {
    "colab": {
      "name": "Tflite_Converter",
      "provenance": [],
      "collapsed_sections": []
    },
    "kernelspec": {
      "name": "python3",
      "display_name": "Python 3"
    },
    "language_info": {
      "name": "python"
    }
  },
  "cells": [
    {
      "cell_type": "markdown",
      "source": [
        ""
      ],
      "metadata": {
        "id": "_gcibSlL6bhO"
      }
    },
    {
      "cell_type": "code",
      "source": [
        "from google.colab import drive\n",
        "drive.mount('/content/gdrive')"
      ],
      "metadata": {
        "id": "qTEcW93T4d2R"
      },
      "execution_count": null,
      "outputs": []
    },
    {
      "cell_type": "markdown",
      "source": [
        "\n",
        "*   Upload the saved model on your google drive\n",
        "\n",
        "*   Give the correct path of the model and run the below cell\n",
        "\n",
        "\n"
      ],
      "metadata": {
        "id": "XOeKad056ElS"
      }
    },
    {
      "cell_type": "code",
      "source": [
        "import tensorflow as tf\n",
        "\n",
        "model = tf.keras.models.load_model('/content/gdrive/MyDrive/model.h5')\n",
        "converter = tf.lite.TFLiteConverter.from_keras_model(model)\n",
        "model = converter.convert()\n",
        "open(\"model.tflite\", \"wb\").write(model)"
      ],
      "metadata": {
        "colab": {
          "base_uri": "https://localhost:8080/"
        },
        "id": "Hx8mTA8OqJ8Q",
        "outputId": "e084eb79-495b-46ab-af21-6dd34dd43fcf"
      },
      "execution_count": 3,
      "outputs": [
        {
          "output_type": "stream",
          "name": "stdout",
          "text": [
            "INFO:tensorflow:Assets written to: /tmp/tmpkgdd5e61/assets\n"
          ]
        },
        {
          "output_type": "stream",
          "name": "stderr",
          "text": [
            "WARNING:absl:Buffer deduplication procedure will be skipped when flatbuffer library is not properly loaded\n"
          ]
        },
        {
          "output_type": "execute_result",
          "data": {
            "text/plain": [
              "94006668"
            ]
          },
          "metadata": {},
          "execution_count": 3
        }
      ]
    }
  ]
}