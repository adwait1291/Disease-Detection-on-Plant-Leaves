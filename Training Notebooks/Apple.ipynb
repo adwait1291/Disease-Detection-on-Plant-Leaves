{
 "cells": [
  {
   "cell_type": "markdown",
   "id": "7f4f3a5a",
   "metadata": {
    "papermill": {
     "duration": 0.013755,
     "end_time": "2022-07-17T18:00:03.691162",
     "exception": false,
     "start_time": "2022-07-17T18:00:03.677407",
     "status": "completed"
    },
    "tags": []
   },
   "source": [
    "# Importing recquired libraries"
   ]
  },
  {
   "cell_type": "code",
   "execution_count": 1,
   "id": "9dfad4d1",
   "metadata": {
    "_cell_guid": "b1076dfc-b9ad-4769-8c92-a6c4dae69d19",
    "_uuid": "8f2839f25d086af736a60e9eeb907d3b93b6e0e5",
    "execution": {
     "iopub.execute_input": "2022-07-17T18:00:03.722230Z",
     "iopub.status.busy": "2022-07-17T18:00:03.720755Z",
     "iopub.status.idle": "2022-07-17T18:00:08.841512Z",
     "shell.execute_reply": "2022-07-17T18:00:08.840455Z",
     "shell.execute_reply.started": "2022-07-17T17:53:32.038715Z"
    },
    "papermill": {
     "duration": 5.137635,
     "end_time": "2022-07-17T18:00:08.841680",
     "exception": false,
     "start_time": "2022-07-17T18:00:03.704045",
     "status": "completed"
    },
    "tags": []
   },
   "outputs": [],
   "source": [
    "import numpy as np \n",
    "import pandas as pd\n",
    "import matplotlib.pyplot as plt\n",
    "import tensorflow as tf\n",
    "from tensorflow import keras\n",
    "from tensorflow.keras import layers, Model\n",
    "from tensorflow.keras.layers import Dropout, GlobalAveragePooling2D, Dense\n",
    "from tensorflow.keras.preprocessing.image import ImageDataGenerator\n",
    "from tensorflow.keras.preprocessing import image\n",
    "%matplotlib inline"
   ]
  },
  {
   "cell_type": "code",
   "execution_count": 2,
   "id": "3d6ca2d3",
   "metadata": {
    "execution": {
     "iopub.execute_input": "2022-07-17T18:00:08.872748Z",
     "iopub.status.busy": "2022-07-17T18:00:08.872019Z",
     "iopub.status.idle": "2022-07-17T18:00:08.874681Z",
     "shell.execute_reply": "2022-07-17T18:00:08.874146Z",
     "shell.execute_reply.started": "2022-07-17T17:53:32.057973Z"
    },
    "papermill": {
     "duration": 0.019632,
     "end_time": "2022-07-17T18:00:08.874804",
     "exception": false,
     "start_time": "2022-07-17T18:00:08.855172",
     "status": "completed"
    },
    "tags": []
   },
   "outputs": [],
   "source": [
    "train_path = '../input/appleonly/AppleOnly'"
   ]
  },
  {
   "cell_type": "code",
   "execution_count": 3,
   "id": "b811774a",
   "metadata": {
    "execution": {
     "iopub.execute_input": "2022-07-17T18:00:08.904356Z",
     "iopub.status.busy": "2022-07-17T18:00:08.903554Z",
     "iopub.status.idle": "2022-07-17T18:00:08.905568Z",
     "shell.execute_reply": "2022-07-17T18:00:08.905099Z",
     "shell.execute_reply.started": "2022-07-17T17:53:32.074248Z"
    },
    "papermill": {
     "duration": 0.018293,
     "end_time": "2022-07-17T18:00:08.905668",
     "exception": false,
     "start_time": "2022-07-17T18:00:08.887375",
     "status": "completed"
    },
    "tags": []
   },
   "outputs": [],
   "source": [
    "image_size = 224\n",
    "target_size = (image_size, image_size)\n",
    "input_shape = (image_size, image_size, 3)\n",
    "batch_size = 64"
   ]
  },
  {
   "cell_type": "code",
   "execution_count": 4,
   "id": "2676cec9",
   "metadata": {
    "execution": {
     "iopub.execute_input": "2022-07-17T18:00:08.937238Z",
     "iopub.status.busy": "2022-07-17T18:00:08.936643Z",
     "iopub.status.idle": "2022-07-17T18:00:14.866536Z",
     "shell.execute_reply": "2022-07-17T18:00:14.866013Z",
     "shell.execute_reply.started": "2022-07-17T17:53:32.085332Z"
    },
    "papermill": {
     "duration": 5.948202,
     "end_time": "2022-07-17T18:00:14.866678",
     "exception": false,
     "start_time": "2022-07-17T18:00:08.918476",
     "status": "completed"
    },
    "tags": []
   },
   "outputs": [
    {
     "name": "stdout",
     "output_type": "stream",
     "text": [
      "Found 12194 images belonging to 5 classes.\n"
     ]
    }
   ],
   "source": [
    "train_aug = ImageDataGenerator(\n",
    "    rescale=1/255.0,\n",
    "    fill_mode=\"nearest\",\n",
    "    width_shift_range=0.2,\n",
    "    height_shift_range=0.2,\n",
    "    zoom_range=0.2,\n",
    "    shear_range=0.2,\n",
    ")\n",
    "\n",
    "train_data = train_aug.flow_from_directory(\n",
    "    train_path,\n",
    "    target_size=target_size,\n",
    "    batch_size=batch_size,\n",
    "    class_mode=\"categorical\"\n",
    ")"
   ]
  },
  {
   "cell_type": "markdown",
   "id": "e5a0d96c",
   "metadata": {
    "papermill": {
     "duration": 0.012998,
     "end_time": "2022-07-17T18:00:14.893408",
     "exception": false,
     "start_time": "2022-07-17T18:00:14.880410",
     "status": "completed"
    },
    "tags": []
   },
   "source": [
    "# ResNet50"
   ]
  },
  {
   "cell_type": "code",
   "execution_count": 5,
   "id": "c3b3f433",
   "metadata": {
    "execution": {
     "iopub.execute_input": "2022-07-17T18:00:14.924435Z",
     "iopub.status.busy": "2022-07-17T18:00:14.923688Z",
     "iopub.status.idle": "2022-07-17T18:00:14.926934Z",
     "shell.execute_reply": "2022-07-17T18:00:14.926529Z",
     "shell.execute_reply.started": "2022-07-17T17:53:38.422200Z"
    },
    "papermill": {
     "duration": 0.020832,
     "end_time": "2022-07-17T18:00:14.927038",
     "exception": false,
     "start_time": "2022-07-17T18:00:14.906206",
     "status": "completed"
    },
    "tags": []
   },
   "outputs": [],
   "source": [
    "from tensorflow.keras.applications.resnet50 import ResNet50"
   ]
  },
  {
   "cell_type": "code",
   "execution_count": 6,
   "id": "b634b192",
   "metadata": {
    "execution": {
     "iopub.execute_input": "2022-07-17T18:00:14.959519Z",
     "iopub.status.busy": "2022-07-17T18:00:14.958989Z",
     "iopub.status.idle": "2022-07-17T18:00:18.276702Z",
     "shell.execute_reply": "2022-07-17T18:00:18.274186Z",
     "shell.execute_reply.started": "2022-07-17T17:53:38.430758Z"
    },
    "papermill": {
     "duration": 3.336694,
     "end_time": "2022-07-17T18:00:18.276914",
     "exception": false,
     "start_time": "2022-07-17T18:00:14.940220",
     "status": "completed"
    },
    "tags": []
   },
   "outputs": [
    {
     "name": "stderr",
     "output_type": "stream",
     "text": [
      "2022-07-17 18:00:15.056086: I tensorflow/stream_executor/cuda/cuda_gpu_executor.cc:937] successful NUMA node read from SysFS had negative value (-1), but there must be at least one NUMA node, so returning NUMA node zero\n",
      "2022-07-17 18:00:15.141679: I tensorflow/stream_executor/cuda/cuda_gpu_executor.cc:937] successful NUMA node read from SysFS had negative value (-1), but there must be at least one NUMA node, so returning NUMA node zero\n",
      "2022-07-17 18:00:15.142471: I tensorflow/stream_executor/cuda/cuda_gpu_executor.cc:937] successful NUMA node read from SysFS had negative value (-1), but there must be at least one NUMA node, so returning NUMA node zero\n",
      "2022-07-17 18:00:15.143594: I tensorflow/core/platform/cpu_feature_guard.cc:142] This TensorFlow binary is optimized with oneAPI Deep Neural Network Library (oneDNN) to use the following CPU instructions in performance-critical operations:  AVX2 AVX512F FMA\n",
      "To enable them in other operations, rebuild TensorFlow with the appropriate compiler flags.\n",
      "2022-07-17 18:00:15.144631: I tensorflow/stream_executor/cuda/cuda_gpu_executor.cc:937] successful NUMA node read from SysFS had negative value (-1), but there must be at least one NUMA node, so returning NUMA node zero\n",
      "2022-07-17 18:00:15.145472: I tensorflow/stream_executor/cuda/cuda_gpu_executor.cc:937] successful NUMA node read from SysFS had negative value (-1), but there must be at least one NUMA node, so returning NUMA node zero\n",
      "2022-07-17 18:00:15.146090: I tensorflow/stream_executor/cuda/cuda_gpu_executor.cc:937] successful NUMA node read from SysFS had negative value (-1), but there must be at least one NUMA node, so returning NUMA node zero\n",
      "2022-07-17 18:00:17.082098: I tensorflow/stream_executor/cuda/cuda_gpu_executor.cc:937] successful NUMA node read from SysFS had negative value (-1), but there must be at least one NUMA node, so returning NUMA node zero\n",
      "2022-07-17 18:00:17.082920: I tensorflow/stream_executor/cuda/cuda_gpu_executor.cc:937] successful NUMA node read from SysFS had negative value (-1), but there must be at least one NUMA node, so returning NUMA node zero\n",
      "2022-07-17 18:00:17.083616: I tensorflow/stream_executor/cuda/cuda_gpu_executor.cc:937] successful NUMA node read from SysFS had negative value (-1), but there must be at least one NUMA node, so returning NUMA node zero\n",
      "2022-07-17 18:00:17.084201: I tensorflow/core/common_runtime/gpu/gpu_device.cc:1510] Created device /job:localhost/replica:0/task:0/device:GPU:0 with 15403 MB memory:  -> device: 0, name: Tesla P100-PCIE-16GB, pci bus id: 0000:00:04.0, compute capability: 6.0\n"
     ]
    }
   ],
   "source": [
    "base_model = ResNet50(weights= None, include_top=False, input_shape= input_shape)\n"
   ]
  },
  {
   "cell_type": "code",
   "execution_count": 7,
   "id": "e4ee4e75",
   "metadata": {
    "execution": {
     "iopub.execute_input": "2022-07-17T18:00:18.348739Z",
     "iopub.status.busy": "2022-07-17T18:00:18.346040Z",
     "iopub.status.idle": "2022-07-17T18:00:18.392153Z",
     "shell.execute_reply": "2022-07-17T18:00:18.391129Z",
     "shell.execute_reply.started": "2022-07-17T17:53:42.758281Z"
    },
    "papermill": {
     "duration": 0.087135,
     "end_time": "2022-07-17T18:00:18.392355",
     "exception": false,
     "start_time": "2022-07-17T18:00:18.305220",
     "status": "completed"
    },
    "tags": []
   },
   "outputs": [],
   "source": [
    "x = base_model.output\n",
    "x = GlobalAveragePooling2D()(x)\n",
    "x = Dropout(0.7)(x)\n",
    "outputs = Dense(len(list(train_data.class_indices.keys())), activation=\"softmax\")(x)\n",
    "model = Model(inputs = base_model.input, outputs = outputs)"
   ]
  },
  {
   "cell_type": "code",
   "execution_count": 8,
   "id": "a50be0d7",
   "metadata": {
    "execution": {
     "iopub.execute_input": "2022-07-17T18:00:18.465050Z",
     "iopub.status.busy": "2022-07-17T18:00:18.463599Z",
     "iopub.status.idle": "2022-07-17T18:00:18.484741Z",
     "shell.execute_reply": "2022-07-17T18:00:18.485253Z",
     "shell.execute_reply.started": "2022-07-17T17:53:42.797871Z"
    },
    "papermill": {
     "duration": 0.061554,
     "end_time": "2022-07-17T18:00:18.485430",
     "exception": false,
     "start_time": "2022-07-17T18:00:18.423876",
     "status": "completed"
    },
    "tags": []
   },
   "outputs": [],
   "source": [
    "model.compile(optimizer= \"adam\", loss='categorical_crossentropy', metrics=['accuracy'])"
   ]
  },
  {
   "cell_type": "code",
   "execution_count": 9,
   "id": "df47eaf3",
   "metadata": {
    "execution": {
     "iopub.execute_input": "2022-07-17T18:00:18.556389Z",
     "iopub.status.busy": "2022-07-17T18:00:18.551826Z",
     "iopub.status.idle": "2022-07-17T18:00:18.635184Z",
     "shell.execute_reply": "2022-07-17T18:00:18.634578Z",
     "shell.execute_reply.started": "2022-07-17T17:53:42.821284Z"
    },
    "papermill": {
     "duration": 0.120917,
     "end_time": "2022-07-17T18:00:18.635351",
     "exception": false,
     "start_time": "2022-07-17T18:00:18.514434",
     "status": "completed"
    },
    "tags": []
   },
   "outputs": [
    {
     "name": "stdout",
     "output_type": "stream",
     "text": [
      "Model: \"model\"\n",
      "__________________________________________________________________________________________________\n",
      "Layer (type)                    Output Shape         Param #     Connected to                     \n",
      "==================================================================================================\n",
      "input_1 (InputLayer)            [(None, 224, 224, 3) 0                                            \n",
      "__________________________________________________________________________________________________\n",
      "conv1_pad (ZeroPadding2D)       (None, 230, 230, 3)  0           input_1[0][0]                    \n",
      "__________________________________________________________________________________________________\n",
      "conv1_conv (Conv2D)             (None, 112, 112, 64) 9472        conv1_pad[0][0]                  \n",
      "__________________________________________________________________________________________________\n",
      "conv1_bn (BatchNormalization)   (None, 112, 112, 64) 256         conv1_conv[0][0]                 \n",
      "__________________________________________________________________________________________________\n",
      "conv1_relu (Activation)         (None, 112, 112, 64) 0           conv1_bn[0][0]                   \n",
      "__________________________________________________________________________________________________\n",
      "pool1_pad (ZeroPadding2D)       (None, 114, 114, 64) 0           conv1_relu[0][0]                 \n",
      "__________________________________________________________________________________________________\n",
      "pool1_pool (MaxPooling2D)       (None, 56, 56, 64)   0           pool1_pad[0][0]                  \n",
      "__________________________________________________________________________________________________\n",
      "conv2_block1_1_conv (Conv2D)    (None, 56, 56, 64)   4160        pool1_pool[0][0]                 \n",
      "__________________________________________________________________________________________________\n",
      "conv2_block1_1_bn (BatchNormali (None, 56, 56, 64)   256         conv2_block1_1_conv[0][0]        \n",
      "__________________________________________________________________________________________________\n",
      "conv2_block1_1_relu (Activation (None, 56, 56, 64)   0           conv2_block1_1_bn[0][0]          \n",
      "__________________________________________________________________________________________________\n",
      "conv2_block1_2_conv (Conv2D)    (None, 56, 56, 64)   36928       conv2_block1_1_relu[0][0]        \n",
      "__________________________________________________________________________________________________\n",
      "conv2_block1_2_bn (BatchNormali (None, 56, 56, 64)   256         conv2_block1_2_conv[0][0]        \n",
      "__________________________________________________________________________________________________\n",
      "conv2_block1_2_relu (Activation (None, 56, 56, 64)   0           conv2_block1_2_bn[0][0]          \n",
      "__________________________________________________________________________________________________\n",
      "conv2_block1_0_conv (Conv2D)    (None, 56, 56, 256)  16640       pool1_pool[0][0]                 \n",
      "__________________________________________________________________________________________________\n",
      "conv2_block1_3_conv (Conv2D)    (None, 56, 56, 256)  16640       conv2_block1_2_relu[0][0]        \n",
      "__________________________________________________________________________________________________\n",
      "conv2_block1_0_bn (BatchNormali (None, 56, 56, 256)  1024        conv2_block1_0_conv[0][0]        \n",
      "__________________________________________________________________________________________________\n",
      "conv2_block1_3_bn (BatchNormali (None, 56, 56, 256)  1024        conv2_block1_3_conv[0][0]        \n",
      "__________________________________________________________________________________________________\n",
      "conv2_block1_add (Add)          (None, 56, 56, 256)  0           conv2_block1_0_bn[0][0]          \n",
      "                                                                 conv2_block1_3_bn[0][0]          \n",
      "__________________________________________________________________________________________________\n",
      "conv2_block1_out (Activation)   (None, 56, 56, 256)  0           conv2_block1_add[0][0]           \n",
      "__________________________________________________________________________________________________\n",
      "conv2_block2_1_conv (Conv2D)    (None, 56, 56, 64)   16448       conv2_block1_out[0][0]           \n",
      "__________________________________________________________________________________________________\n",
      "conv2_block2_1_bn (BatchNormali (None, 56, 56, 64)   256         conv2_block2_1_conv[0][0]        \n",
      "__________________________________________________________________________________________________\n",
      "conv2_block2_1_relu (Activation (None, 56, 56, 64)   0           conv2_block2_1_bn[0][0]          \n",
      "__________________________________________________________________________________________________\n",
      "conv2_block2_2_conv (Conv2D)    (None, 56, 56, 64)   36928       conv2_block2_1_relu[0][0]        \n",
      "__________________________________________________________________________________________________\n",
      "conv2_block2_2_bn (BatchNormali (None, 56, 56, 64)   256         conv2_block2_2_conv[0][0]        \n",
      "__________________________________________________________________________________________________\n",
      "conv2_block2_2_relu (Activation (None, 56, 56, 64)   0           conv2_block2_2_bn[0][0]          \n",
      "__________________________________________________________________________________________________\n",
      "conv2_block2_3_conv (Conv2D)    (None, 56, 56, 256)  16640       conv2_block2_2_relu[0][0]        \n",
      "__________________________________________________________________________________________________\n",
      "conv2_block2_3_bn (BatchNormali (None, 56, 56, 256)  1024        conv2_block2_3_conv[0][0]        \n",
      "__________________________________________________________________________________________________\n",
      "conv2_block2_add (Add)          (None, 56, 56, 256)  0           conv2_block1_out[0][0]           \n",
      "                                                                 conv2_block2_3_bn[0][0]          \n",
      "__________________________________________________________________________________________________\n",
      "conv2_block2_out (Activation)   (None, 56, 56, 256)  0           conv2_block2_add[0][0]           \n",
      "__________________________________________________________________________________________________\n",
      "conv2_block3_1_conv (Conv2D)    (None, 56, 56, 64)   16448       conv2_block2_out[0][0]           \n",
      "__________________________________________________________________________________________________\n",
      "conv2_block3_1_bn (BatchNormali (None, 56, 56, 64)   256         conv2_block3_1_conv[0][0]        \n",
      "__________________________________________________________________________________________________\n",
      "conv2_block3_1_relu (Activation (None, 56, 56, 64)   0           conv2_block3_1_bn[0][0]          \n",
      "__________________________________________________________________________________________________\n",
      "conv2_block3_2_conv (Conv2D)    (None, 56, 56, 64)   36928       conv2_block3_1_relu[0][0]        \n",
      "__________________________________________________________________________________________________\n",
      "conv2_block3_2_bn (BatchNormali (None, 56, 56, 64)   256         conv2_block3_2_conv[0][0]        \n",
      "__________________________________________________________________________________________________\n",
      "conv2_block3_2_relu (Activation (None, 56, 56, 64)   0           conv2_block3_2_bn[0][0]          \n",
      "__________________________________________________________________________________________________\n",
      "conv2_block3_3_conv (Conv2D)    (None, 56, 56, 256)  16640       conv2_block3_2_relu[0][0]        \n",
      "__________________________________________________________________________________________________\n",
      "conv2_block3_3_bn (BatchNormali (None, 56, 56, 256)  1024        conv2_block3_3_conv[0][0]        \n",
      "__________________________________________________________________________________________________\n",
      "conv2_block3_add (Add)          (None, 56, 56, 256)  0           conv2_block2_out[0][0]           \n",
      "                                                                 conv2_block3_3_bn[0][0]          \n",
      "__________________________________________________________________________________________________\n",
      "conv2_block3_out (Activation)   (None, 56, 56, 256)  0           conv2_block3_add[0][0]           \n",
      "__________________________________________________________________________________________________\n",
      "conv3_block1_1_conv (Conv2D)    (None, 28, 28, 128)  32896       conv2_block3_out[0][0]           \n",
      "__________________________________________________________________________________________________\n",
      "conv3_block1_1_bn (BatchNormali (None, 28, 28, 128)  512         conv3_block1_1_conv[0][0]        \n",
      "__________________________________________________________________________________________________\n",
      "conv3_block1_1_relu (Activation (None, 28, 28, 128)  0           conv3_block1_1_bn[0][0]          \n",
      "__________________________________________________________________________________________________\n",
      "conv3_block1_2_conv (Conv2D)    (None, 28, 28, 128)  147584      conv3_block1_1_relu[0][0]        \n",
      "__________________________________________________________________________________________________\n",
      "conv3_block1_2_bn (BatchNormali (None, 28, 28, 128)  512         conv3_block1_2_conv[0][0]        \n",
      "__________________________________________________________________________________________________\n",
      "conv3_block1_2_relu (Activation (None, 28, 28, 128)  0           conv3_block1_2_bn[0][0]          \n",
      "__________________________________________________________________________________________________\n",
      "conv3_block1_0_conv (Conv2D)    (None, 28, 28, 512)  131584      conv2_block3_out[0][0]           \n",
      "__________________________________________________________________________________________________\n",
      "conv3_block1_3_conv (Conv2D)    (None, 28, 28, 512)  66048       conv3_block1_2_relu[0][0]        \n",
      "__________________________________________________________________________________________________\n",
      "conv3_block1_0_bn (BatchNormali (None, 28, 28, 512)  2048        conv3_block1_0_conv[0][0]        \n",
      "__________________________________________________________________________________________________\n",
      "conv3_block1_3_bn (BatchNormali (None, 28, 28, 512)  2048        conv3_block1_3_conv[0][0]        \n",
      "__________________________________________________________________________________________________\n",
      "conv3_block1_add (Add)          (None, 28, 28, 512)  0           conv3_block1_0_bn[0][0]          \n",
      "                                                                 conv3_block1_3_bn[0][0]          \n",
      "__________________________________________________________________________________________________\n",
      "conv3_block1_out (Activation)   (None, 28, 28, 512)  0           conv3_block1_add[0][0]           \n",
      "__________________________________________________________________________________________________\n",
      "conv3_block2_1_conv (Conv2D)    (None, 28, 28, 128)  65664       conv3_block1_out[0][0]           \n",
      "__________________________________________________________________________________________________\n",
      "conv3_block2_1_bn (BatchNormali (None, 28, 28, 128)  512         conv3_block2_1_conv[0][0]        \n",
      "__________________________________________________________________________________________________\n",
      "conv3_block2_1_relu (Activation (None, 28, 28, 128)  0           conv3_block2_1_bn[0][0]          \n",
      "__________________________________________________________________________________________________\n",
      "conv3_block2_2_conv (Conv2D)    (None, 28, 28, 128)  147584      conv3_block2_1_relu[0][0]        \n",
      "__________________________________________________________________________________________________\n",
      "conv3_block2_2_bn (BatchNormali (None, 28, 28, 128)  512         conv3_block2_2_conv[0][0]        \n",
      "__________________________________________________________________________________________________\n",
      "conv3_block2_2_relu (Activation (None, 28, 28, 128)  0           conv3_block2_2_bn[0][0]          \n",
      "__________________________________________________________________________________________________\n",
      "conv3_block2_3_conv (Conv2D)    (None, 28, 28, 512)  66048       conv3_block2_2_relu[0][0]        \n",
      "__________________________________________________________________________________________________\n",
      "conv3_block2_3_bn (BatchNormali (None, 28, 28, 512)  2048        conv3_block2_3_conv[0][0]        \n",
      "__________________________________________________________________________________________________\n",
      "conv3_block2_add (Add)          (None, 28, 28, 512)  0           conv3_block1_out[0][0]           \n",
      "                                                                 conv3_block2_3_bn[0][0]          \n",
      "__________________________________________________________________________________________________\n",
      "conv3_block2_out (Activation)   (None, 28, 28, 512)  0           conv3_block2_add[0][0]           \n",
      "__________________________________________________________________________________________________\n",
      "conv3_block3_1_conv (Conv2D)    (None, 28, 28, 128)  65664       conv3_block2_out[0][0]           \n",
      "__________________________________________________________________________________________________\n",
      "conv3_block3_1_bn (BatchNormali (None, 28, 28, 128)  512         conv3_block3_1_conv[0][0]        \n",
      "__________________________________________________________________________________________________\n",
      "conv3_block3_1_relu (Activation (None, 28, 28, 128)  0           conv3_block3_1_bn[0][0]          \n",
      "__________________________________________________________________________________________________\n",
      "conv3_block3_2_conv (Conv2D)    (None, 28, 28, 128)  147584      conv3_block3_1_relu[0][0]        \n",
      "__________________________________________________________________________________________________\n",
      "conv3_block3_2_bn (BatchNormali (None, 28, 28, 128)  512         conv3_block3_2_conv[0][0]        \n",
      "__________________________________________________________________________________________________\n",
      "conv3_block3_2_relu (Activation (None, 28, 28, 128)  0           conv3_block3_2_bn[0][0]          \n",
      "__________________________________________________________________________________________________\n",
      "conv3_block3_3_conv (Conv2D)    (None, 28, 28, 512)  66048       conv3_block3_2_relu[0][0]        \n",
      "__________________________________________________________________________________________________\n",
      "conv3_block3_3_bn (BatchNormali (None, 28, 28, 512)  2048        conv3_block3_3_conv[0][0]        \n",
      "__________________________________________________________________________________________________\n",
      "conv3_block3_add (Add)          (None, 28, 28, 512)  0           conv3_block2_out[0][0]           \n",
      "                                                                 conv3_block3_3_bn[0][0]          \n",
      "__________________________________________________________________________________________________\n",
      "conv3_block3_out (Activation)   (None, 28, 28, 512)  0           conv3_block3_add[0][0]           \n",
      "__________________________________________________________________________________________________\n",
      "conv3_block4_1_conv (Conv2D)    (None, 28, 28, 128)  65664       conv3_block3_out[0][0]           \n",
      "__________________________________________________________________________________________________\n",
      "conv3_block4_1_bn (BatchNormali (None, 28, 28, 128)  512         conv3_block4_1_conv[0][0]        \n",
      "__________________________________________________________________________________________________\n",
      "conv3_block4_1_relu (Activation (None, 28, 28, 128)  0           conv3_block4_1_bn[0][0]          \n",
      "__________________________________________________________________________________________________\n",
      "conv3_block4_2_conv (Conv2D)    (None, 28, 28, 128)  147584      conv3_block4_1_relu[0][0]        \n",
      "__________________________________________________________________________________________________\n",
      "conv3_block4_2_bn (BatchNormali (None, 28, 28, 128)  512         conv3_block4_2_conv[0][0]        \n",
      "__________________________________________________________________________________________________\n",
      "conv3_block4_2_relu (Activation (None, 28, 28, 128)  0           conv3_block4_2_bn[0][0]          \n",
      "__________________________________________________________________________________________________\n",
      "conv3_block4_3_conv (Conv2D)    (None, 28, 28, 512)  66048       conv3_block4_2_relu[0][0]        \n",
      "__________________________________________________________________________________________________\n",
      "conv3_block4_3_bn (BatchNormali (None, 28, 28, 512)  2048        conv3_block4_3_conv[0][0]        \n",
      "__________________________________________________________________________________________________\n",
      "conv3_block4_add (Add)          (None, 28, 28, 512)  0           conv3_block3_out[0][0]           \n",
      "                                                                 conv3_block4_3_bn[0][0]          \n",
      "__________________________________________________________________________________________________\n",
      "conv3_block4_out (Activation)   (None, 28, 28, 512)  0           conv3_block4_add[0][0]           \n",
      "__________________________________________________________________________________________________\n",
      "conv4_block1_1_conv (Conv2D)    (None, 14, 14, 256)  131328      conv3_block4_out[0][0]           \n",
      "__________________________________________________________________________________________________\n",
      "conv4_block1_1_bn (BatchNormali (None, 14, 14, 256)  1024        conv4_block1_1_conv[0][0]        \n",
      "__________________________________________________________________________________________________\n",
      "conv4_block1_1_relu (Activation (None, 14, 14, 256)  0           conv4_block1_1_bn[0][0]          \n",
      "__________________________________________________________________________________________________\n",
      "conv4_block1_2_conv (Conv2D)    (None, 14, 14, 256)  590080      conv4_block1_1_relu[0][0]        \n",
      "__________________________________________________________________________________________________\n",
      "conv4_block1_2_bn (BatchNormali (None, 14, 14, 256)  1024        conv4_block1_2_conv[0][0]        \n",
      "__________________________________________________________________________________________________\n",
      "conv4_block1_2_relu (Activation (None, 14, 14, 256)  0           conv4_block1_2_bn[0][0]          \n",
      "__________________________________________________________________________________________________\n",
      "conv4_block1_0_conv (Conv2D)    (None, 14, 14, 1024) 525312      conv3_block4_out[0][0]           \n",
      "__________________________________________________________________________________________________\n",
      "conv4_block1_3_conv (Conv2D)    (None, 14, 14, 1024) 263168      conv4_block1_2_relu[0][0]        \n",
      "__________________________________________________________________________________________________\n",
      "conv4_block1_0_bn (BatchNormali (None, 14, 14, 1024) 4096        conv4_block1_0_conv[0][0]        \n",
      "__________________________________________________________________________________________________\n",
      "conv4_block1_3_bn (BatchNormali (None, 14, 14, 1024) 4096        conv4_block1_3_conv[0][0]        \n",
      "__________________________________________________________________________________________________\n",
      "conv4_block1_add (Add)          (None, 14, 14, 1024) 0           conv4_block1_0_bn[0][0]          \n",
      "                                                                 conv4_block1_3_bn[0][0]          \n",
      "__________________________________________________________________________________________________\n",
      "conv4_block1_out (Activation)   (None, 14, 14, 1024) 0           conv4_block1_add[0][0]           \n",
      "__________________________________________________________________________________________________\n",
      "conv4_block2_1_conv (Conv2D)    (None, 14, 14, 256)  262400      conv4_block1_out[0][0]           \n",
      "__________________________________________________________________________________________________\n",
      "conv4_block2_1_bn (BatchNormali (None, 14, 14, 256)  1024        conv4_block2_1_conv[0][0]        \n",
      "__________________________________________________________________________________________________\n",
      "conv4_block2_1_relu (Activation (None, 14, 14, 256)  0           conv4_block2_1_bn[0][0]          \n",
      "__________________________________________________________________________________________________\n",
      "conv4_block2_2_conv (Conv2D)    (None, 14, 14, 256)  590080      conv4_block2_1_relu[0][0]        \n",
      "__________________________________________________________________________________________________\n",
      "conv4_block2_2_bn (BatchNormali (None, 14, 14, 256)  1024        conv4_block2_2_conv[0][0]        \n",
      "__________________________________________________________________________________________________\n",
      "conv4_block2_2_relu (Activation (None, 14, 14, 256)  0           conv4_block2_2_bn[0][0]          \n",
      "__________________________________________________________________________________________________\n",
      "conv4_block2_3_conv (Conv2D)    (None, 14, 14, 1024) 263168      conv4_block2_2_relu[0][0]        \n",
      "__________________________________________________________________________________________________\n",
      "conv4_block2_3_bn (BatchNormali (None, 14, 14, 1024) 4096        conv4_block2_3_conv[0][0]        \n",
      "__________________________________________________________________________________________________\n",
      "conv4_block2_add (Add)          (None, 14, 14, 1024) 0           conv4_block1_out[0][0]           \n",
      "                                                                 conv4_block2_3_bn[0][0]          \n",
      "__________________________________________________________________________________________________\n",
      "conv4_block2_out (Activation)   (None, 14, 14, 1024) 0           conv4_block2_add[0][0]           \n",
      "__________________________________________________________________________________________________\n",
      "conv4_block3_1_conv (Conv2D)    (None, 14, 14, 256)  262400      conv4_block2_out[0][0]           \n",
      "__________________________________________________________________________________________________\n",
      "conv4_block3_1_bn (BatchNormali (None, 14, 14, 256)  1024        conv4_block3_1_conv[0][0]        \n",
      "__________________________________________________________________________________________________\n",
      "conv4_block3_1_relu (Activation (None, 14, 14, 256)  0           conv4_block3_1_bn[0][0]          \n",
      "__________________________________________________________________________________________________\n",
      "conv4_block3_2_conv (Conv2D)    (None, 14, 14, 256)  590080      conv4_block3_1_relu[0][0]        \n",
      "__________________________________________________________________________________________________\n",
      "conv4_block3_2_bn (BatchNormali (None, 14, 14, 256)  1024        conv4_block3_2_conv[0][0]        \n",
      "__________________________________________________________________________________________________\n",
      "conv4_block3_2_relu (Activation (None, 14, 14, 256)  0           conv4_block3_2_bn[0][0]          \n",
      "__________________________________________________________________________________________________\n",
      "conv4_block3_3_conv (Conv2D)    (None, 14, 14, 1024) 263168      conv4_block3_2_relu[0][0]        \n",
      "__________________________________________________________________________________________________\n",
      "conv4_block3_3_bn (BatchNormali (None, 14, 14, 1024) 4096        conv4_block3_3_conv[0][0]        \n",
      "__________________________________________________________________________________________________\n",
      "conv4_block3_add (Add)          (None, 14, 14, 1024) 0           conv4_block2_out[0][0]           \n",
      "                                                                 conv4_block3_3_bn[0][0]          \n",
      "__________________________________________________________________________________________________\n",
      "conv4_block3_out (Activation)   (None, 14, 14, 1024) 0           conv4_block3_add[0][0]           \n",
      "__________________________________________________________________________________________________\n",
      "conv4_block4_1_conv (Conv2D)    (None, 14, 14, 256)  262400      conv4_block3_out[0][0]           \n",
      "__________________________________________________________________________________________________\n",
      "conv4_block4_1_bn (BatchNormali (None, 14, 14, 256)  1024        conv4_block4_1_conv[0][0]        \n",
      "__________________________________________________________________________________________________\n",
      "conv4_block4_1_relu (Activation (None, 14, 14, 256)  0           conv4_block4_1_bn[0][0]          \n",
      "__________________________________________________________________________________________________\n",
      "conv4_block4_2_conv (Conv2D)    (None, 14, 14, 256)  590080      conv4_block4_1_relu[0][0]        \n",
      "__________________________________________________________________________________________________\n",
      "conv4_block4_2_bn (BatchNormali (None, 14, 14, 256)  1024        conv4_block4_2_conv[0][0]        \n",
      "__________________________________________________________________________________________________\n",
      "conv4_block4_2_relu (Activation (None, 14, 14, 256)  0           conv4_block4_2_bn[0][0]          \n",
      "__________________________________________________________________________________________________\n",
      "conv4_block4_3_conv (Conv2D)    (None, 14, 14, 1024) 263168      conv4_block4_2_relu[0][0]        \n",
      "__________________________________________________________________________________________________\n",
      "conv4_block4_3_bn (BatchNormali (None, 14, 14, 1024) 4096        conv4_block4_3_conv[0][0]        \n",
      "__________________________________________________________________________________________________\n",
      "conv4_block4_add (Add)          (None, 14, 14, 1024) 0           conv4_block3_out[0][0]           \n",
      "                                                                 conv4_block4_3_bn[0][0]          \n",
      "__________________________________________________________________________________________________\n",
      "conv4_block4_out (Activation)   (None, 14, 14, 1024) 0           conv4_block4_add[0][0]           \n",
      "__________________________________________________________________________________________________\n",
      "conv4_block5_1_conv (Conv2D)    (None, 14, 14, 256)  262400      conv4_block4_out[0][0]           \n",
      "__________________________________________________________________________________________________\n",
      "conv4_block5_1_bn (BatchNormali (None, 14, 14, 256)  1024        conv4_block5_1_conv[0][0]        \n",
      "__________________________________________________________________________________________________\n",
      "conv4_block5_1_relu (Activation (None, 14, 14, 256)  0           conv4_block5_1_bn[0][0]          \n",
      "__________________________________________________________________________________________________\n",
      "conv4_block5_2_conv (Conv2D)    (None, 14, 14, 256)  590080      conv4_block5_1_relu[0][0]        \n",
      "__________________________________________________________________________________________________\n",
      "conv4_block5_2_bn (BatchNormali (None, 14, 14, 256)  1024        conv4_block5_2_conv[0][0]        \n",
      "__________________________________________________________________________________________________\n",
      "conv4_block5_2_relu (Activation (None, 14, 14, 256)  0           conv4_block5_2_bn[0][0]          \n",
      "__________________________________________________________________________________________________\n",
      "conv4_block5_3_conv (Conv2D)    (None, 14, 14, 1024) 263168      conv4_block5_2_relu[0][0]        \n",
      "__________________________________________________________________________________________________\n",
      "conv4_block5_3_bn (BatchNormali (None, 14, 14, 1024) 4096        conv4_block5_3_conv[0][0]        \n",
      "__________________________________________________________________________________________________\n",
      "conv4_block5_add (Add)          (None, 14, 14, 1024) 0           conv4_block4_out[0][0]           \n",
      "                                                                 conv4_block5_3_bn[0][0]          \n",
      "__________________________________________________________________________________________________\n",
      "conv4_block5_out (Activation)   (None, 14, 14, 1024) 0           conv4_block5_add[0][0]           \n",
      "__________________________________________________________________________________________________\n",
      "conv4_block6_1_conv (Conv2D)    (None, 14, 14, 256)  262400      conv4_block5_out[0][0]           \n",
      "__________________________________________________________________________________________________\n",
      "conv4_block6_1_bn (BatchNormali (None, 14, 14, 256)  1024        conv4_block6_1_conv[0][0]        \n",
      "__________________________________________________________________________________________________\n",
      "conv4_block6_1_relu (Activation (None, 14, 14, 256)  0           conv4_block6_1_bn[0][0]          \n",
      "__________________________________________________________________________________________________\n",
      "conv4_block6_2_conv (Conv2D)    (None, 14, 14, 256)  590080      conv4_block6_1_relu[0][0]        \n",
      "__________________________________________________________________________________________________\n",
      "conv4_block6_2_bn (BatchNormali (None, 14, 14, 256)  1024        conv4_block6_2_conv[0][0]        \n",
      "__________________________________________________________________________________________________\n",
      "conv4_block6_2_relu (Activation (None, 14, 14, 256)  0           conv4_block6_2_bn[0][0]          \n",
      "__________________________________________________________________________________________________\n",
      "conv4_block6_3_conv (Conv2D)    (None, 14, 14, 1024) 263168      conv4_block6_2_relu[0][0]        \n",
      "__________________________________________________________________________________________________\n",
      "conv4_block6_3_bn (BatchNormali (None, 14, 14, 1024) 4096        conv4_block6_3_conv[0][0]        \n",
      "__________________________________________________________________________________________________\n",
      "conv4_block6_add (Add)          (None, 14, 14, 1024) 0           conv4_block5_out[0][0]           \n",
      "                                                                 conv4_block6_3_bn[0][0]          \n",
      "__________________________________________________________________________________________________\n",
      "conv4_block6_out (Activation)   (None, 14, 14, 1024) 0           conv4_block6_add[0][0]           \n",
      "__________________________________________________________________________________________________\n",
      "conv5_block1_1_conv (Conv2D)    (None, 7, 7, 512)    524800      conv4_block6_out[0][0]           \n",
      "__________________________________________________________________________________________________\n",
      "conv5_block1_1_bn (BatchNormali (None, 7, 7, 512)    2048        conv5_block1_1_conv[0][0]        \n",
      "__________________________________________________________________________________________________\n",
      "conv5_block1_1_relu (Activation (None, 7, 7, 512)    0           conv5_block1_1_bn[0][0]          \n",
      "__________________________________________________________________________________________________\n",
      "conv5_block1_2_conv (Conv2D)    (None, 7, 7, 512)    2359808     conv5_block1_1_relu[0][0]        \n",
      "__________________________________________________________________________________________________\n",
      "conv5_block1_2_bn (BatchNormali (None, 7, 7, 512)    2048        conv5_block1_2_conv[0][0]        \n",
      "__________________________________________________________________________________________________\n",
      "conv5_block1_2_relu (Activation (None, 7, 7, 512)    0           conv5_block1_2_bn[0][0]          \n",
      "__________________________________________________________________________________________________\n",
      "conv5_block1_0_conv (Conv2D)    (None, 7, 7, 2048)   2099200     conv4_block6_out[0][0]           \n",
      "__________________________________________________________________________________________________\n",
      "conv5_block1_3_conv (Conv2D)    (None, 7, 7, 2048)   1050624     conv5_block1_2_relu[0][0]        \n",
      "__________________________________________________________________________________________________\n",
      "conv5_block1_0_bn (BatchNormali (None, 7, 7, 2048)   8192        conv5_block1_0_conv[0][0]        \n",
      "__________________________________________________________________________________________________\n",
      "conv5_block1_3_bn (BatchNormali (None, 7, 7, 2048)   8192        conv5_block1_3_conv[0][0]        \n",
      "__________________________________________________________________________________________________\n",
      "conv5_block1_add (Add)          (None, 7, 7, 2048)   0           conv5_block1_0_bn[0][0]          \n",
      "                                                                 conv5_block1_3_bn[0][0]          \n",
      "__________________________________________________________________________________________________\n",
      "conv5_block1_out (Activation)   (None, 7, 7, 2048)   0           conv5_block1_add[0][0]           \n",
      "__________________________________________________________________________________________________\n",
      "conv5_block2_1_conv (Conv2D)    (None, 7, 7, 512)    1049088     conv5_block1_out[0][0]           \n",
      "__________________________________________________________________________________________________\n",
      "conv5_block2_1_bn (BatchNormali (None, 7, 7, 512)    2048        conv5_block2_1_conv[0][0]        \n",
      "__________________________________________________________________________________________________\n",
      "conv5_block2_1_relu (Activation (None, 7, 7, 512)    0           conv5_block2_1_bn[0][0]          \n",
      "__________________________________________________________________________________________________\n",
      "conv5_block2_2_conv (Conv2D)    (None, 7, 7, 512)    2359808     conv5_block2_1_relu[0][0]        \n",
      "__________________________________________________________________________________________________\n",
      "conv5_block2_2_bn (BatchNormali (None, 7, 7, 512)    2048        conv5_block2_2_conv[0][0]        \n",
      "__________________________________________________________________________________________________\n",
      "conv5_block2_2_relu (Activation (None, 7, 7, 512)    0           conv5_block2_2_bn[0][0]          \n",
      "__________________________________________________________________________________________________\n",
      "conv5_block2_3_conv (Conv2D)    (None, 7, 7, 2048)   1050624     conv5_block2_2_relu[0][0]        \n",
      "__________________________________________________________________________________________________\n",
      "conv5_block2_3_bn (BatchNormali (None, 7, 7, 2048)   8192        conv5_block2_3_conv[0][0]        \n",
      "__________________________________________________________________________________________________\n",
      "conv5_block2_add (Add)          (None, 7, 7, 2048)   0           conv5_block1_out[0][0]           \n",
      "                                                                 conv5_block2_3_bn[0][0]          \n",
      "__________________________________________________________________________________________________\n",
      "conv5_block2_out (Activation)   (None, 7, 7, 2048)   0           conv5_block2_add[0][0]           \n",
      "__________________________________________________________________________________________________\n",
      "conv5_block3_1_conv (Conv2D)    (None, 7, 7, 512)    1049088     conv5_block2_out[0][0]           \n",
      "__________________________________________________________________________________________________\n",
      "conv5_block3_1_bn (BatchNormali (None, 7, 7, 512)    2048        conv5_block3_1_conv[0][0]        \n",
      "__________________________________________________________________________________________________\n",
      "conv5_block3_1_relu (Activation (None, 7, 7, 512)    0           conv5_block3_1_bn[0][0]          \n",
      "__________________________________________________________________________________________________\n",
      "conv5_block3_2_conv (Conv2D)    (None, 7, 7, 512)    2359808     conv5_block3_1_relu[0][0]        \n",
      "__________________________________________________________________________________________________\n",
      "conv5_block3_2_bn (BatchNormali (None, 7, 7, 512)    2048        conv5_block3_2_conv[0][0]        \n",
      "__________________________________________________________________________________________________\n",
      "conv5_block3_2_relu (Activation (None, 7, 7, 512)    0           conv5_block3_2_bn[0][0]          \n",
      "__________________________________________________________________________________________________\n",
      "conv5_block3_3_conv (Conv2D)    (None, 7, 7, 2048)   1050624     conv5_block3_2_relu[0][0]        \n",
      "__________________________________________________________________________________________________\n",
      "conv5_block3_3_bn (BatchNormali (None, 7, 7, 2048)   8192        conv5_block3_3_conv[0][0]        \n",
      "__________________________________________________________________________________________________\n",
      "conv5_block3_add (Add)          (None, 7, 7, 2048)   0           conv5_block2_out[0][0]           \n",
      "                                                                 conv5_block3_3_bn[0][0]          \n",
      "__________________________________________________________________________________________________\n",
      "conv5_block3_out (Activation)   (None, 7, 7, 2048)   0           conv5_block3_add[0][0]           \n",
      "__________________________________________________________________________________________________\n",
      "global_average_pooling2d (Globa (None, 2048)         0           conv5_block3_out[0][0]           \n",
      "__________________________________________________________________________________________________\n",
      "dropout (Dropout)               (None, 2048)         0           global_average_pooling2d[0][0]   \n",
      "__________________________________________________________________________________________________\n",
      "dense (Dense)                   (None, 5)            10245       dropout[0][0]                    \n",
      "==================================================================================================\n",
      "Total params: 23,597,957\n",
      "Trainable params: 23,544,837\n",
      "Non-trainable params: 53,120\n",
      "__________________________________________________________________________________________________\n"
     ]
    }
   ],
   "source": [
    "model.summary()"
   ]
  },
  {
   "cell_type": "markdown",
   "id": "bd401911",
   "metadata": {
    "papermill": {
     "duration": 0.025695,
     "end_time": "2022-07-17T18:00:18.688019",
     "exception": false,
     "start_time": "2022-07-17T18:00:18.662324",
     "status": "completed"
    },
    "tags": []
   },
   "source": [
    "# Model training"
   ]
  },
  {
   "cell_type": "code",
   "execution_count": 10,
   "id": "f7b62bee",
   "metadata": {
    "execution": {
     "iopub.execute_input": "2022-07-17T18:00:18.748786Z",
     "iopub.status.busy": "2022-07-17T18:00:18.746662Z",
     "iopub.status.idle": "2022-07-17T19:59:14.082591Z",
     "shell.execute_reply": "2022-07-17T19:59:14.083028Z"
    },
    "papermill": {
     "duration": 7135.369105,
     "end_time": "2022-07-17T19:59:14.083202",
     "exception": false,
     "start_time": "2022-07-17T18:00:18.714097",
     "status": "completed"
    },
    "tags": []
   },
   "outputs": [
    {
     "name": "stderr",
     "output_type": "stream",
     "text": [
      "2022-07-17 18:00:19.869473: I tensorflow/compiler/mlir/mlir_graph_optimization_pass.cc:185] None of the MLIR Optimization Passes are enabled (registered 2)\n"
     ]
    },
    {
     "name": "stdout",
     "output_type": "stream",
     "text": [
      "Epoch 1/50\n"
     ]
    },
    {
     "name": "stderr",
     "output_type": "stream",
     "text": [
      "2022-07-17 18:00:26.821370: I tensorflow/stream_executor/cuda/cuda_dnn.cc:369] Loaded cuDNN version 8005\n"
     ]
    },
    {
     "name": "stdout",
     "output_type": "stream",
     "text": [
      "150/150 [==============================] - 164s 1s/step - loss: 0.5772 - accuracy: 0.8026\n",
      "Epoch 2/50\n",
      "150/150 [==============================] - 139s 925ms/step - loss: 0.3197 - accuracy: 0.8901\n",
      "Epoch 3/50\n",
      "150/150 [==============================] - 136s 903ms/step - loss: 0.2703 - accuracy: 0.9044\n",
      "Epoch 4/50\n",
      "150/150 [==============================] - 134s 893ms/step - loss: 0.2332 - accuracy: 0.9228\n",
      "Epoch 5/50\n",
      "150/150 [==============================] - 135s 900ms/step - loss: 0.1974 - accuracy: 0.9328\n",
      "Epoch 6/50\n",
      "150/150 [==============================] - 134s 893ms/step - loss: 0.1638 - accuracy: 0.9448\n",
      "Epoch 7/50\n",
      "150/150 [==============================] - 136s 901ms/step - loss: 0.1314 - accuracy: 0.9577\n",
      "Epoch 8/50\n",
      "150/150 [==============================] - 135s 898ms/step - loss: 0.3133 - accuracy: 0.9069\n",
      "Epoch 9/50\n",
      "150/150 [==============================] - 135s 898ms/step - loss: 0.1547 - accuracy: 0.9455\n",
      "Epoch 10/50\n",
      "150/150 [==============================] - 135s 901ms/step - loss: 0.1342 - accuracy: 0.9543\n",
      "Epoch 11/50\n",
      "150/150 [==============================] - 136s 908ms/step - loss: 0.0959 - accuracy: 0.9662\n",
      "Epoch 12/50\n",
      "150/150 [==============================] - 135s 899ms/step - loss: 0.0670 - accuracy: 0.9787\n",
      "Epoch 13/50\n",
      "150/150 [==============================] - 135s 900ms/step - loss: 0.0688 - accuracy: 0.9754\n",
      "Epoch 14/50\n",
      "150/150 [==============================] - 136s 907ms/step - loss: 0.0552 - accuracy: 0.9811\n",
      "Epoch 15/50\n",
      "150/150 [==============================] - 136s 908ms/step - loss: 0.0488 - accuracy: 0.9853\n",
      "Epoch 16/50\n",
      "150/150 [==============================] - 135s 898ms/step - loss: 0.0501 - accuracy: 0.9832\n",
      "Epoch 17/50\n",
      "150/150 [==============================] - 138s 919ms/step - loss: 0.0385 - accuracy: 0.9862\n",
      "Epoch 18/50\n",
      "150/150 [==============================] - 137s 913ms/step - loss: 0.0385 - accuracy: 0.9864\n",
      "Epoch 19/50\n",
      "150/150 [==============================] - 136s 909ms/step - loss: 0.0791 - accuracy: 0.9817\n",
      "Epoch 20/50\n",
      "150/150 [==============================] - 137s 915ms/step - loss: 0.0612 - accuracy: 0.9805\n",
      "Epoch 21/50\n",
      "150/150 [==============================] - 139s 928ms/step - loss: 0.0449 - accuracy: 0.9854\n",
      "Epoch 22/50\n",
      "150/150 [==============================] - 139s 926ms/step - loss: 0.0476 - accuracy: 0.9853\n",
      "Epoch 23/50\n",
      "150/150 [==============================] - 139s 926ms/step - loss: 0.0314 - accuracy: 0.9898\n",
      "Epoch 24/50\n",
      "150/150 [==============================] - 142s 947ms/step - loss: 0.0284 - accuracy: 0.9906\n",
      "Epoch 25/50\n",
      "150/150 [==============================] - 142s 939ms/step - loss: 0.0382 - accuracy: 0.9885\n",
      "Epoch 26/50\n",
      "150/150 [==============================] - 146s 971ms/step - loss: 0.0347 - accuracy: 0.9886\n",
      "Epoch 27/50\n",
      "150/150 [==============================] - 141s 934ms/step - loss: 0.0298 - accuracy: 0.9910\n",
      "Epoch 28/50\n",
      "150/150 [==============================] - 139s 924ms/step - loss: 0.0187 - accuracy: 0.9945\n",
      "Epoch 29/50\n",
      "150/150 [==============================] - 138s 918ms/step - loss: 0.0298 - accuracy: 0.9900\n",
      "Epoch 30/50\n",
      "150/150 [==============================] - 137s 910ms/step - loss: 0.0431 - accuracy: 0.9878\n",
      "Epoch 31/50\n",
      "150/150 [==============================] - 137s 915ms/step - loss: 0.0279 - accuracy: 0.9906\n",
      "Epoch 32/50\n",
      "150/150 [==============================] - 138s 920ms/step - loss: 0.0247 - accuracy: 0.9920\n",
      "Epoch 33/50\n",
      "150/150 [==============================] - 137s 914ms/step - loss: 0.0390 - accuracy: 0.9896\n",
      "Epoch 34/50\n",
      "150/150 [==============================] - 138s 915ms/step - loss: 0.0602 - accuracy: 0.9816\n",
      "Epoch 35/50\n",
      "150/150 [==============================] - 138s 916ms/step - loss: 0.0167 - accuracy: 0.9937\n",
      "Epoch 36/50\n",
      "150/150 [==============================] - 137s 913ms/step - loss: 0.0332 - accuracy: 0.9894\n",
      "Epoch 37/50\n",
      "150/150 [==============================] - 135s 898ms/step - loss: 0.0177 - accuracy: 0.9948\n",
      "Epoch 38/50\n",
      "150/150 [==============================] - 139s 927ms/step - loss: 0.0254 - accuracy: 0.9925\n",
      "Epoch 39/50\n",
      "150/150 [==============================] - 138s 919ms/step - loss: 0.0321 - accuracy: 0.9898\n",
      "Epoch 40/50\n",
      "150/150 [==============================] - 136s 906ms/step - loss: 0.0257 - accuracy: 0.9920\n",
      "Epoch 41/50\n",
      "150/150 [==============================] - 138s 917ms/step - loss: 0.0234 - accuracy: 0.9925\n",
      "Epoch 42/50\n",
      "150/150 [==============================] - 140s 930ms/step - loss: 0.0195 - accuracy: 0.9939\n",
      "Epoch 43/50\n",
      "150/150 [==============================] - 139s 927ms/step - loss: 0.0307 - accuracy: 0.9907\n",
      "Epoch 44/50\n",
      "150/150 [==============================] - 137s 912ms/step - loss: 0.0278 - accuracy: 0.9916\n",
      "Epoch 45/50\n",
      "150/150 [==============================] - 139s 925ms/step - loss: 0.0209 - accuracy: 0.9928\n",
      "Epoch 46/50\n",
      "150/150 [==============================] - 139s 928ms/step - loss: 0.0220 - accuracy: 0.9929\n",
      "Epoch 47/50\n",
      "150/150 [==============================] - 139s 924ms/step - loss: 0.0197 - accuracy: 0.9933\n",
      "Epoch 48/50\n",
      "150/150 [==============================] - 137s 912ms/step - loss: 0.0238 - accuracy: 0.9925\n",
      "Epoch 49/50\n",
      "150/150 [==============================] - 139s 923ms/step - loss: 0.0241 - accuracy: 0.9920\n",
      "Epoch 50/50\n",
      "150/150 [==============================] - 138s 922ms/step - loss: 0.0270 - accuracy: 0.9912\n"
     ]
    }
   ],
   "source": [
    "history = model.fit(\n",
    "    train_data,\n",
    "    epochs=50,\n",
    "    steps_per_epoch=150,\n",
    "    batch_size = batch_size\n",
    ")"
   ]
  },
  {
   "cell_type": "code",
   "execution_count": 11,
   "id": "d0e106cb",
   "metadata": {
    "execution": {
     "iopub.execute_input": "2022-07-17T19:59:18.287507Z",
     "iopub.status.busy": "2022-07-17T19:59:18.286306Z",
     "iopub.status.idle": "2022-07-17T19:59:18.488514Z",
     "shell.execute_reply": "2022-07-17T19:59:18.488035Z"
    },
    "papermill": {
     "duration": 2.42956,
     "end_time": "2022-07-17T19:59:18.488651",
     "exception": false,
     "start_time": "2022-07-17T19:59:16.059091",
     "status": "completed"
    },
    "tags": []
   },
   "outputs": [
    {
     "data": {
      "image/png": "[encoded data removed]",
      "text/plain": [
       "<Figure size 432x288 with 1 Axes>"
      ]
     },
     "metadata": {
      "needs_background": "light"
     },
     "output_type": "display_data"
    }
   ],
   "source": [
    "hist = history.history\n",
    "plt.plot(hist[\"accuracy\"], label=\"accuracy\")\n",
    "plt.ylabel(\"Accuracy\")\n",
    "plt.xlabel(\"Epochs\")\n",
    "plt.legend()\n",
    "\n",
    "plt.show()"
   ]
  },
  {
   "cell_type": "code",
   "execution_count": 12,
   "id": "501c5cdd",
   "metadata": {
    "execution": {
     "iopub.execute_input": "2022-07-17T19:59:22.509321Z",
     "iopub.status.busy": "2022-07-17T19:59:22.508485Z",
     "iopub.status.idle": "2022-07-17T19:59:23.464948Z",
     "shell.execute_reply": "2022-07-17T19:59:23.464142Z"
    },
    "papermill": {
     "duration": 3.013048,
     "end_time": "2022-07-17T19:59:23.465101",
     "exception": false,
     "start_time": "2022-07-17T19:59:20.452053",
     "status": "completed"
    },
    "tags": []
   },
   "outputs": [
    {
     "name": "stderr",
     "output_type": "stream",
     "text": [
      "/opt/conda/lib/python3.7/site-packages/keras/utils/generic_utils.py:497: CustomMaskWarning: Custom mask layers require a config and must override get_config. When loading, the custom mask layer must be passed to the custom_objects argument.\n",
      "  category=CustomMaskWarning)\n"
     ]
    }
   ],
   "source": [
    "model.save(\"Apple.h5\")"
   ]
  },
  {
   "cell_type": "code",
   "execution_count": 13,
   "id": "c078d52a",
   "metadata": {
    "execution": {
     "iopub.execute_input": "2022-07-17T19:59:27.412759Z",
     "iopub.status.busy": "2022-07-17T19:59:27.412152Z",
     "iopub.status.idle": "2022-07-17T19:59:27.635991Z",
     "shell.execute_reply": "2022-07-17T19:59:27.636425Z"
    },
    "papermill": {
     "duration": 2.199899,
     "end_time": "2022-07-17T19:59:27.636574",
     "exception": false,
     "start_time": "2022-07-17T19:59:25.436675",
     "status": "completed"
    },
    "tags": []
   },
   "outputs": [
    {
     "data": {
      "text/plain": [
       "<matplotlib.image.AxesImage at 0x7f19407fb310>"
      ]
     },
     "execution_count": 13,
     "metadata": {},
     "output_type": "execute_result"
    },
    {
     "data": {
      "image/png": "[encoded data removed]",
      "text/plain": [
       "<Figure size 432x288 with 1 Axes>"
      ]
     },
     "metadata": {
      "needs_background": "light"
     },
     "output_type": "display_data"
    }
   ],
   "source": [
    "from tensorflow.keras.applications.resnet50 import preprocess_input\n",
    "img_path = \"../input/appleonly/AppleOnly/Apple___healthy/00907d8b-6ae6-4306-bfd7-d54471981a86___RS_HL 5709_FlipTB.JPG\"\n",
    "img = image.load_img(img_path, target_size=target_size)\n",
    "img = image.img_to_array(img)\n",
    "img = img/255.0\n",
    "img_batch = np.expand_dims(img, axis=0)\n",
    "plt.imshow(img)"
   ]
  },
  {
   "cell_type": "code",
   "execution_count": 14,
   "id": "1e7ebc2e",
   "metadata": {
    "execution": {
     "iopub.execute_input": "2022-07-17T19:59:31.871981Z",
     "iopub.status.busy": "2022-07-17T19:59:31.871082Z",
     "iopub.status.idle": "2022-07-17T19:59:32.771865Z",
     "shell.execute_reply": "2022-07-17T19:59:32.772519Z"
    },
    "papermill": {
     "duration": 2.929833,
     "end_time": "2022-07-17T19:59:32.772707",
     "exception": false,
     "start_time": "2022-07-17T19:59:29.842874",
     "status": "completed"
    },
    "tags": []
   },
   "outputs": [
    {
     "name": "stdout",
     "output_type": "stream",
     "text": [
      "predicted class: 3\n",
      "\n",
      "Class dictionary\n",
      "{'Apple___Apple_scab': 0, 'Apple___Black_rot': 1, 'Apple___Cedar_apple_rust': 2, 'Apple___healthy': 3, 'Other': 4}\n"
     ]
    }
   ],
   "source": [
    "predicted_class = np.argmax(model.predict(img_batch))\n",
    "print(f\"predicted class: {predicted_class}\")\n",
    "print(\"\\nClass dictionary\")\n",
    "print(train_data.class_indices)"
   ]
  },
  {
   "cell_type": "code",
   "execution_count": null,
   "id": "eaf65955",
   "metadata": {
    "papermill": {
     "duration": 1.973651,
     "end_time": "2022-07-17T19:59:36.756539",
     "exception": false,
     "start_time": "2022-07-17T19:59:34.782888",
     "status": "completed"
    },
    "tags": []
   },
   "outputs": [],
   "source": []
  },
  {
   "cell_type": "code",
   "execution_count": null,
   "id": "386efdd7",
   "metadata": {
    "papermill": {
     "duration": 2.788985,
     "end_time": "2022-07-17T19:59:41.513145",
     "exception": false,
     "start_time": "2022-07-17T19:59:38.724160",
     "status": "completed"
    },
    "tags": []
   },
   "outputs": [],
   "source": []
  },
  {
   "cell_type": "code",
   "execution_count": null,
   "id": "50b7c84a",
   "metadata": {
    "papermill": {
     "duration": 1.977608,
     "end_time": "2022-07-17T19:59:45.510219",
     "exception": false,
     "start_time": "2022-07-17T19:59:43.532611",
     "status": "completed"
    },
    "tags": []
   },
   "outputs": [],
   "source": []
  },
  {
   "cell_type": "code",
   "execution_count": null,
   "id": "f7485d62",
   "metadata": {
    "papermill": {
     "duration": 1.961932,
     "end_time": "2022-07-17T19:59:49.447393",
     "exception": false,
     "start_time": "2022-07-17T19:59:47.485461",
     "status": "completed"
    },
    "tags": []
   },
   "outputs": [],
   "source": []
  }
 ],
 "metadata": {
  "kernelspec": {
   "display_name": "Python 3",
   "language": "python",
   "name": "python3"
  },
  "language_info": {
   "codemirror_mode": {
    "name": "ipython",
    "version": 3
   },
   "file_extension": ".py",
   "mimetype": "text/x-python",
   "name": "python",
   "nbconvert_exporter": "python",
   "pygments_lexer": "ipython3",
   "version": "3.7.12"
  },
  "papermill": {
   "default_parameters": {},
   "duration": 7199.54376,
   "end_time": "2022-07-17T19:59:55.110078",
   "environment_variables": {},
   "exception": null,
   "input_path": "__notebook__.ipynb",
   "output_path": "__notebook__.ipynb",
   "parameters": {},
   "start_time": "2022-07-17T17:59:55.566318",
   "version": "2.3.3"
  }
 },
 "nbformat": 4,
 "nbformat_minor": 5
}
