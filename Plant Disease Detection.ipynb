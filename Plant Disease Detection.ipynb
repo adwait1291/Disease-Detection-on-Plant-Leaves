{
 "cells": [
  {
   "cell_type": "code",
   "execution_count": 1,
   "id": "684f9d99",
   "metadata": {
    "_cell_guid": "b1076dfc-b9ad-4769-8c92-a6c4dae69d19",
    "_uuid": "8f2839f25d086af736a60e9eeb907d3b93b6e0e5",
    "execution": {
     "iopub.execute_input": "2022-04-24T15:49:56.636679Z",
     "iopub.status.busy": "2022-04-24T15:49:56.634864Z",
     "iopub.status.idle": "2022-04-24T15:50:02.441772Z",
     "shell.execute_reply": "2022-04-24T15:50:02.441109Z",
     "shell.execute_reply.started": "2022-04-24T04:49:04.699427Z"
    },
    "papermill": {
     "duration": 5.88702,
     "end_time": "2022-04-24T15:50:02.441984",
     "exception": false,
     "start_time": "2022-04-24T15:49:56.554964",
     "status": "completed"
    },
    "tags": []
   },
   "outputs": [],
   "source": [
    "import numpy as np \n",
    "import pandas as pd\n",
    "import matplotlib.pyplot as plt\n",
    "import tensorflow as tf\n",
    "from tensorflow import keras\n",
    "from tensorflow.keras import callbacks, layers, Model, Sequential\n",
    "from tensorflow.keras.layers import Dense, Dropout, Flatten\n",
    "from tensorflow.keras.preprocessing.image import ImageDataGenerator\n",
    "from tensorflow.keras.preprocessing import image\n",
    "%matplotlib inline"
   ]
  },
  {
   "cell_type": "code",
   "execution_count": 2,
   "id": "9cfef4a6",
   "metadata": {
    "execution": {
     "iopub.execute_input": "2022-04-24T15:50:02.488949Z",
     "iopub.status.busy": "2022-04-24T15:50:02.487878Z",
     "iopub.status.idle": "2022-04-24T15:50:02.492464Z",
     "shell.execute_reply": "2022-04-24T15:50:02.493242Z",
     "shell.execute_reply.started": "2022-04-24T04:49:04.708151Z"
    },
    "papermill": {
     "duration": 0.030237,
     "end_time": "2022-04-24T15:50:02.493499",
     "exception": false,
     "start_time": "2022-04-24T15:50:02.463262",
     "status": "completed"
    },
    "tags": []
   },
   "outputs": [
    {
     "name": "stdout",
     "output_type": "stream",
     "text": [
      "2.6.0\n"
     ]
    }
   ],
   "source": [
    "print(keras.__version__) "
   ]
  },
  {
   "cell_type": "code",
   "execution_count": 3,
   "id": "f0e0bd52",
   "metadata": {
    "execution": {
     "iopub.execute_input": "2022-04-24T15:50:02.537855Z",
     "iopub.status.busy": "2022-04-24T15:50:02.537124Z",
     "iopub.status.idle": "2022-04-24T15:50:02.541713Z",
     "shell.execute_reply": "2022-04-24T15:50:02.540980Z",
     "shell.execute_reply.started": "2022-04-24T04:49:04.721349Z"
    },
    "papermill": {
     "duration": 0.027545,
     "end_time": "2022-04-24T15:50:02.541894",
     "exception": false,
     "start_time": "2022-04-24T15:50:02.514349",
     "status": "completed"
    },
    "tags": []
   },
   "outputs": [
    {
     "name": "stdout",
     "output_type": "stream",
     "text": [
      "2.6.2\n"
     ]
    }
   ],
   "source": [
    "print(tf. __version__) "
   ]
  },
  {
   "cell_type": "code",
   "execution_count": 4,
   "id": "232a83b5",
   "metadata": {
    "execution": {
     "iopub.execute_input": "2022-04-24T15:50:02.591748Z",
     "iopub.status.busy": "2022-04-24T15:50:02.590638Z",
     "iopub.status.idle": "2022-04-24T15:50:02.593213Z",
     "shell.execute_reply": "2022-04-24T15:50:02.593871Z",
     "shell.execute_reply.started": "2022-04-24T04:49:04.730074Z"
    },
    "papermill": {
     "duration": 0.029515,
     "end_time": "2022-04-24T15:50:02.594036",
     "exception": false,
     "start_time": "2022-04-24T15:50:02.564521",
     "status": "completed"
    },
    "tags": []
   },
   "outputs": [],
   "source": [
    "train_path = '../input/new-plant-diseases-dataset/New Plant Diseases Dataset(Augmented)/New Plant Diseases Dataset(Augmented)/train'"
   ]
  },
  {
   "cell_type": "code",
   "execution_count": 5,
   "id": "a1726f99",
   "metadata": {
    "execution": {
     "iopub.execute_input": "2022-04-24T15:50:02.639568Z",
     "iopub.status.busy": "2022-04-24T15:50:02.638572Z",
     "iopub.status.idle": "2022-04-24T15:50:02.641529Z",
     "shell.execute_reply": "2022-04-24T15:50:02.641000Z",
     "shell.execute_reply.started": "2022-04-24T04:49:05.036813Z"
    },
    "papermill": {
     "duration": 0.027254,
     "end_time": "2022-04-24T15:50:02.641680",
     "exception": false,
     "start_time": "2022-04-24T15:50:02.614426",
     "status": "completed"
    },
    "tags": []
   },
   "outputs": [],
   "source": [
    "valid_path = '../input/new-plant-diseases-dataset/New Plant Diseases Dataset(Augmented)/New Plant Diseases Dataset(Augmented)/valid'"
   ]
  },
  {
   "cell_type": "code",
   "execution_count": 6,
   "id": "3364af57",
   "metadata": {
    "execution": {
     "iopub.execute_input": "2022-04-24T15:50:02.687902Z",
     "iopub.status.busy": "2022-04-24T15:50:02.686815Z",
     "iopub.status.idle": "2022-04-24T15:50:02.689504Z",
     "shell.execute_reply": "2022-04-24T15:50:02.690067Z",
     "shell.execute_reply.started": "2022-04-24T04:49:05.612376Z"
    },
    "papermill": {
     "duration": 0.027988,
     "end_time": "2022-04-24T15:50:02.690214",
     "exception": false,
     "start_time": "2022-04-24T15:50:02.662226",
     "status": "completed"
    },
    "tags": []
   },
   "outputs": [],
   "source": [
    "image_size = 224\n",
    "target_size = (image_size, image_size)\n",
    "input_shape = (image_size, image_size, 3)\n",
    "grid_shape = (1, image_size, image_size, 3)\n",
    "batch_size = 32"
   ]
  },
  {
   "cell_type": "code",
   "execution_count": 7,
   "id": "87e15fc2",
   "metadata": {
    "execution": {
     "iopub.execute_input": "2022-04-24T15:50:02.738364Z",
     "iopub.status.busy": "2022-04-24T15:50:02.735417Z",
     "iopub.status.idle": "2022-04-24T15:51:05.808252Z",
     "shell.execute_reply": "2022-04-24T15:51:05.808952Z",
     "shell.execute_reply.started": "2022-04-24T04:49:06.465989Z"
    },
    "papermill": {
     "duration": 63.097978,
     "end_time": "2022-04-24T15:51:05.809131",
     "exception": false,
     "start_time": "2022-04-24T15:50:02.711153",
     "status": "completed"
    },
    "tags": []
   },
   "outputs": [
    {
     "name": "stdout",
     "output_type": "stream",
     "text": [
      "Found 70295 images belonging to 38 classes.\n",
      "Found 17572 images belonging to 38 classes.\n"
     ]
    }
   ],
   "source": [
    "train_aug = ImageDataGenerator(\n",
    "    rescale=1/255.0,\n",
    "    fill_mode=\"nearest\",\n",
    "    width_shift_range=0.2,\n",
    "    height_shift_range=0.2,\n",
    "    zoom_range=0.2,\n",
    "    shear_range=0.2,\n",
    "    #validation_split=0.2\n",
    ")\n",
    "\n",
    "train_data = train_aug.flow_from_directory(\n",
    "    train_path,\n",
    "    target_size=target_size,\n",
    "    batch_size=batch_size,\n",
    "    class_mode=\"categorical\"\n",
    ")\n",
    "\n",
    "valid_aug = ImageDataGenerator(\n",
    "    rescale=1/255.0\n",
    ")\n",
    "\n",
    "valid_data = valid_aug.flow_from_directory(\n",
    "    valid_path,\n",
    "    target_size=target_size,\n",
    "    batch_size=batch_size,\n",
    "    class_mode=\"categorical\"\n",
    ")"
   ]
  },
  {
   "cell_type": "code",
   "execution_count": 8,
   "id": "59c8fd02",
   "metadata": {
    "execution": {
     "iopub.execute_input": "2022-04-24T15:51:05.862530Z",
     "iopub.status.busy": "2022-04-24T15:51:05.861835Z",
     "iopub.status.idle": "2022-04-24T15:51:10.251374Z",
     "shell.execute_reply": "2022-04-24T15:51:10.250757Z",
     "shell.execute_reply.started": "2022-04-24T04:53:55.844983Z"
    },
    "papermill": {
     "duration": 4.420337,
     "end_time": "2022-04-24T15:51:10.251599",
     "exception": false,
     "start_time": "2022-04-24T15:51:05.831262",
     "status": "completed"
    },
    "tags": []
   },
   "outputs": [
    {
     "name": "stderr",
     "output_type": "stream",
     "text": [
      "2022-04-24 15:51:05.975144: I tensorflow/stream_executor/cuda/cuda_gpu_executor.cc:937] successful NUMA node read from SysFS had negative value (-1), but there must be at least one NUMA node, so returning NUMA node zero\n",
      "2022-04-24 15:51:06.123833: I tensorflow/stream_executor/cuda/cuda_gpu_executor.cc:937] successful NUMA node read from SysFS had negative value (-1), but there must be at least one NUMA node, so returning NUMA node zero\n",
      "2022-04-24 15:51:06.125141: I tensorflow/stream_executor/cuda/cuda_gpu_executor.cc:937] successful NUMA node read from SysFS had negative value (-1), but there must be at least one NUMA node, so returning NUMA node zero\n",
      "2022-04-24 15:51:06.127319: I tensorflow/core/platform/cpu_feature_guard.cc:142] This TensorFlow binary is optimized with oneAPI Deep Neural Network Library (oneDNN) to use the following CPU instructions in performance-critical operations:  AVX2 FMA\n",
      "To enable them in other operations, rebuild TensorFlow with the appropriate compiler flags.\n",
      "2022-04-24 15:51:06.131041: I tensorflow/stream_executor/cuda/cuda_gpu_executor.cc:937] successful NUMA node read from SysFS had negative value (-1), but there must be at least one NUMA node, so returning NUMA node zero\n",
      "2022-04-24 15:51:06.132148: I tensorflow/stream_executor/cuda/cuda_gpu_executor.cc:937] successful NUMA node read from SysFS had negative value (-1), but there must be at least one NUMA node, so returning NUMA node zero\n",
      "2022-04-24 15:51:06.133143: I tensorflow/stream_executor/cuda/cuda_gpu_executor.cc:937] successful NUMA node read from SysFS had negative value (-1), but there must be at least one NUMA node, so returning NUMA node zero\n",
      "2022-04-24 15:51:08.364887: I tensorflow/stream_executor/cuda/cuda_gpu_executor.cc:937] successful NUMA node read from SysFS had negative value (-1), but there must be at least one NUMA node, so returning NUMA node zero\n",
      "2022-04-24 15:51:08.365971: I tensorflow/stream_executor/cuda/cuda_gpu_executor.cc:937] successful NUMA node read from SysFS had negative value (-1), but there must be at least one NUMA node, so returning NUMA node zero\n",
      "2022-04-24 15:51:08.366996: I tensorflow/stream_executor/cuda/cuda_gpu_executor.cc:937] successful NUMA node read from SysFS had negative value (-1), but there must be at least one NUMA node, so returning NUMA node zero\n",
      "2022-04-24 15:51:08.367824: I tensorflow/core/common_runtime/gpu/gpu_device.cc:1510] Created device /job:localhost/replica:0/task:0/device:GPU:0 with 15403 MB memory:  -> device: 0, name: Tesla P100-PCIE-16GB, pci bus id: 0000:00:04.0, compute capability: 6.0\n"
     ]
    },
    {
     "name": "stdout",
     "output_type": "stream",
     "text": [
      "Downloading data from https://storage.googleapis.com/tensorflow/keras-applications/mobilenet_v2/mobilenet_v2_weights_tf_dim_ordering_tf_kernels_1.0_224_no_top.h5\n",
      "9412608/9406464 [==============================] - 0s 0us/step\n",
      "9420800/9406464 [==============================] - 0s 0us/step\n"
     ]
    }
   ],
   "source": [
    "mbnet_v2 = keras.applications.MobileNetV2(\n",
    "    weights = \"imagenet\",\n",
    "    include_top=False,\n",
    "    input_shape=input_shape\n",
    ")\n",
    "\n",
    "#mbnet_v2.trainable = False"
   ]
  },
  {
   "cell_type": "code",
   "execution_count": 9,
   "id": "d13b6b08",
   "metadata": {
    "execution": {
     "iopub.execute_input": "2022-04-24T15:51:10.309786Z",
     "iopub.status.busy": "2022-04-24T15:51:10.308639Z",
     "iopub.status.idle": "2022-04-24T15:51:10.311340Z",
     "shell.execute_reply": "2022-04-24T15:51:10.311850Z",
     "shell.execute_reply.started": "2022-04-24T04:53:56.722503Z"
    },
    "papermill": {
     "duration": 0.036248,
     "end_time": "2022-04-24T15:51:10.312009",
     "exception": false,
     "start_time": "2022-04-24T15:51:10.275761",
     "status": "completed"
    },
    "tags": []
   },
   "outputs": [],
   "source": [
    "for layer in mbnet_v2.layers[:145]:\n",
    "    layer.trainable = False"
   ]
  },
  {
   "cell_type": "code",
   "execution_count": 10,
   "id": "1f55b180",
   "metadata": {
    "execution": {
     "iopub.execute_input": "2022-04-24T15:51:10.368125Z",
     "iopub.status.busy": "2022-04-24T15:51:10.367120Z",
     "iopub.status.idle": "2022-04-24T15:51:10.469517Z",
     "shell.execute_reply": "2022-04-24T15:51:10.470074Z",
     "shell.execute_reply.started": "2022-04-24T04:53:57.727003Z"
    },
    "papermill": {
     "duration": 0.133438,
     "end_time": "2022-04-24T15:51:10.470238",
     "exception": false,
     "start_time": "2022-04-24T15:51:10.336800",
     "status": "completed"
    },
    "tags": []
   },
   "outputs": [
    {
     "name": "stdout",
     "output_type": "stream",
     "text": [
      "0 input_1 False\n",
      "1 Conv1 False\n",
      "2 bn_Conv1 False\n",
      "3 Conv1_relu False\n",
      "4 expanded_conv_depthwise False\n",
      "5 expanded_conv_depthwise_BN False\n",
      "6 expanded_conv_depthwise_relu False\n",
      "7 expanded_conv_project False\n",
      "8 expanded_conv_project_BN False\n",
      "9 block_1_expand False\n",
      "10 block_1_expand_BN False\n",
      "11 block_1_expand_relu False\n",
      "12 block_1_pad False\n",
      "13 block_1_depthwise False\n",
      "14 block_1_depthwise_BN False\n",
      "15 block_1_depthwise_relu False\n",
      "16 block_1_project False\n",
      "17 block_1_project_BN False\n",
      "18 block_2_expand False\n",
      "19 block_2_expand_BN False\n",
      "20 block_2_expand_relu False\n",
      "21 block_2_depthwise False\n",
      "22 block_2_depthwise_BN False\n",
      "23 block_2_depthwise_relu False\n",
      "24 block_2_project False\n",
      "25 block_2_project_BN False\n",
      "26 block_2_add False\n",
      "27 block_3_expand False\n",
      "28 block_3_expand_BN False\n",
      "29 block_3_expand_relu False\n",
      "30 block_3_pad False\n",
      "31 block_3_depthwise False\n",
      "32 block_3_depthwise_BN False\n",
      "33 block_3_depthwise_relu False\n",
      "34 block_3_project False\n",
      "35 block_3_project_BN False\n",
      "36 block_4_expand False\n",
      "37 block_4_expand_BN False\n",
      "38 block_4_expand_relu False\n",
      "39 block_4_depthwise False\n",
      "40 block_4_depthwise_BN False\n",
      "41 block_4_depthwise_relu False\n",
      "42 block_4_project False\n",
      "43 block_4_project_BN False\n",
      "44 block_4_add False\n",
      "45 block_5_expand False\n",
      "46 block_5_expand_BN False\n",
      "47 block_5_expand_relu False\n",
      "48 block_5_depthwise False\n",
      "49 block_5_depthwise_BN False\n",
      "50 block_5_depthwise_relu False\n",
      "51 block_5_project False\n",
      "52 block_5_project_BN False\n",
      "53 block_5_add False\n",
      "54 block_6_expand False\n",
      "55 block_6_expand_BN False\n",
      "56 block_6_expand_relu False\n",
      "57 block_6_pad False\n",
      "58 block_6_depthwise False\n",
      "59 block_6_depthwise_BN False\n",
      "60 block_6_depthwise_relu False\n",
      "61 block_6_project False\n",
      "62 block_6_project_BN False\n",
      "63 block_7_expand False\n",
      "64 block_7_expand_BN False\n",
      "65 block_7_expand_relu False\n",
      "66 block_7_depthwise False\n",
      "67 block_7_depthwise_BN False\n",
      "68 block_7_depthwise_relu False\n",
      "69 block_7_project False\n",
      "70 block_7_project_BN False\n",
      "71 block_7_add False\n",
      "72 block_8_expand False\n",
      "73 block_8_expand_BN False\n",
      "74 block_8_expand_relu False\n",
      "75 block_8_depthwise False\n",
      "76 block_8_depthwise_BN False\n",
      "77 block_8_depthwise_relu False\n",
      "78 block_8_project False\n",
      "79 block_8_project_BN False\n",
      "80 block_8_add False\n",
      "81 block_9_expand False\n",
      "82 block_9_expand_BN False\n",
      "83 block_9_expand_relu False\n",
      "84 block_9_depthwise False\n",
      "85 block_9_depthwise_BN False\n",
      "86 block_9_depthwise_relu False\n",
      "87 block_9_project False\n",
      "88 block_9_project_BN False\n",
      "89 block_9_add False\n",
      "90 block_10_expand False\n",
      "91 block_10_expand_BN False\n",
      "92 block_10_expand_relu False\n",
      "93 block_10_depthwise False\n",
      "94 block_10_depthwise_BN False\n",
      "95 block_10_depthwise_relu False\n",
      "96 block_10_project False\n",
      "97 block_10_project_BN False\n",
      "98 block_11_expand False\n",
      "99 block_11_expand_BN False\n",
      "100 block_11_expand_relu False\n",
      "101 block_11_depthwise False\n",
      "102 block_11_depthwise_BN False\n",
      "103 block_11_depthwise_relu False\n",
      "104 block_11_project False\n",
      "105 block_11_project_BN False\n",
      "106 block_11_add False\n",
      "107 block_12_expand False\n",
      "108 block_12_expand_BN False\n",
      "109 block_12_expand_relu False\n",
      "110 block_12_depthwise False\n",
      "111 block_12_depthwise_BN False\n",
      "112 block_12_depthwise_relu False\n",
      "113 block_12_project False\n",
      "114 block_12_project_BN False\n",
      "115 block_12_add False\n",
      "116 block_13_expand False\n",
      "117 block_13_expand_BN False\n",
      "118 block_13_expand_relu False\n",
      "119 block_13_pad False\n",
      "120 block_13_depthwise False\n",
      "121 block_13_depthwise_BN False\n",
      "122 block_13_depthwise_relu False\n",
      "123 block_13_project False\n",
      "124 block_13_project_BN False\n",
      "125 block_14_expand False\n",
      "126 block_14_expand_BN False\n",
      "127 block_14_expand_relu False\n",
      "128 block_14_depthwise False\n",
      "129 block_14_depthwise_BN False\n",
      "130 block_14_depthwise_relu False\n",
      "131 block_14_project False\n",
      "132 block_14_project_BN False\n",
      "133 block_14_add False\n",
      "134 block_15_expand False\n",
      "135 block_15_expand_BN False\n",
      "136 block_15_expand_relu False\n",
      "137 block_15_depthwise False\n",
      "138 block_15_depthwise_BN False\n",
      "139 block_15_depthwise_relu False\n",
      "140 block_15_project False\n",
      "141 block_15_project_BN False\n",
      "142 block_15_add False\n",
      "143 block_16_expand False\n",
      "144 block_16_expand_BN False\n",
      "145 block_16_expand_relu True\n",
      "146 block_16_depthwise True\n",
      "147 block_16_depthwise_BN True\n",
      "148 block_16_depthwise_relu True\n",
      "149 block_16_project True\n",
      "150 block_16_project_BN True\n",
      "151 Conv_1 True\n",
      "152 Conv_1_bn True\n",
      "153 out_relu True\n"
     ]
    }
   ],
   "source": [
    "for i, layer in enumerate(mbnet_v2.layers):\n",
    "    print(i, layer.name, layer.trainable)"
   ]
  },
  {
   "cell_type": "code",
   "execution_count": 11,
   "id": "dee5a6d7",
   "metadata": {
    "execution": {
     "iopub.execute_input": "2022-04-24T15:51:10.531572Z",
     "iopub.status.busy": "2022-04-24T15:51:10.529475Z",
     "iopub.status.idle": "2022-04-24T15:51:10.963213Z",
     "shell.execute_reply": "2022-04-24T15:51:10.962605Z",
     "shell.execute_reply.started": "2022-04-23T17:46:24.749208Z"
    },
    "papermill": {
     "duration": 0.467086,
     "end_time": "2022-04-24T15:51:10.963490",
     "exception": false,
     "start_time": "2022-04-24T15:51:10.496404",
     "status": "completed"
    },
    "tags": []
   },
   "outputs": [
    {
     "name": "stdout",
     "output_type": "stream",
     "text": [
      "Model: \"model\"\n",
      "_________________________________________________________________\n",
      "Layer (type)                 Output Shape              Param #   \n",
      "=================================================================\n",
      "input_2 (InputLayer)         [(None, 224, 224, 3)]     0         \n",
      "_________________________________________________________________\n",
      "mobilenetv2_1.00_224 (Functi (None, 7, 7, 1280)        2257984   \n",
      "_________________________________________________________________\n",
      "global_average_pooling2d (Gl (None, 1280)              0         \n",
      "_________________________________________________________________\n",
      "dropout (Dropout)            (None, 1280)              0         \n",
      "_________________________________________________________________\n",
      "dense (Dense)                (None, 38)                48678     \n",
      "=================================================================\n",
      "Total params: 2,306,662\n",
      "Trainable params: 779,238\n",
      "Non-trainable params: 1,527,424\n",
      "_________________________________________________________________\n"
     ]
    }
   ],
   "source": [
    "inputs = keras.Input(shape=input_shape)\n",
    "\n",
    "x = mbnet_v2(inputs)\n",
    "x = tf.keras.layers.GlobalAveragePooling2D()(x)\n",
    "x = tf.keras.layers.Dropout(0.05)(x)\n",
    "\n",
    "outputs = tf.keras.layers.Dense(len(list(train_data.class_indices.keys())), activation=\"softmax\")(x)\n",
    "\n",
    "model = Model(inputs=inputs, outputs=outputs)\n",
    "\n",
    "model.summary()"
   ]
  },
  {
   "cell_type": "code",
   "execution_count": null,
   "id": "d999d7d0",
   "metadata": {
    "papermill": {
     "duration": 0.026297,
     "end_time": "2022-04-24T15:51:11.015204",
     "exception": false,
     "start_time": "2022-04-24T15:51:10.988907",
     "status": "completed"
    },
    "tags": []
   },
   "outputs": [],
   "source": [
    "\n"
   ]
  },
  {
   "cell_type": "code",
   "execution_count": 12,
   "id": "69ed52cc",
   "metadata": {
    "execution": {
     "iopub.execute_input": "2022-04-24T15:51:11.080421Z",
     "iopub.status.busy": "2022-04-24T15:51:11.079365Z",
     "iopub.status.idle": "2022-04-24T15:51:11.087977Z",
     "shell.execute_reply": "2022-04-24T15:51:11.088560Z",
     "shell.execute_reply.started": "2022-04-23T17:46:02.671416Z"
    },
    "papermill": {
     "duration": 0.047463,
     "end_time": "2022-04-24T15:51:11.088756",
     "exception": false,
     "start_time": "2022-04-24T15:51:11.041293",
     "status": "completed"
    },
    "tags": []
   },
   "outputs": [],
   "source": [
    "model.compile(optimizer=\"adam\", loss=\"categorical_crossentropy\", metrics=[\"accuracy\"])\n",
    "\n",
    "early_stopping_cb = callbacks.EarlyStopping(monitor=\"loss\", patience=3)"
   ]
  },
  {
   "cell_type": "code",
   "execution_count": 13,
   "id": "8ea127b9",
   "metadata": {
    "execution": {
     "iopub.execute_input": "2022-04-24T15:51:11.144452Z",
     "iopub.status.busy": "2022-04-24T15:51:11.143241Z",
     "iopub.status.idle": "2022-04-24T18:16:57.362535Z",
     "shell.execute_reply": "2022-04-24T18:16:57.361923Z"
    },
    "papermill": {
     "duration": 8746.249483,
     "end_time": "2022-04-24T18:16:57.362706",
     "exception": false,
     "start_time": "2022-04-24T15:51:11.113223",
     "status": "completed"
    },
    "tags": []
   },
   "outputs": [
    {
     "name": "stderr",
     "output_type": "stream",
     "text": [
      "2022-04-24 15:51:11.794958: I tensorflow/compiler/mlir/mlir_graph_optimization_pass.cc:185] None of the MLIR Optimization Passes are enabled (registered 2)\n"
     ]
    },
    {
     "name": "stdout",
     "output_type": "stream",
     "text": [
      "Epoch 1/65\n"
     ]
    },
    {
     "name": "stderr",
     "output_type": "stream",
     "text": [
      "2022-04-24 15:51:16.862691: I tensorflow/stream_executor/cuda/cuda_dnn.cc:369] Loaded cuDNN version 8005\n"
     ]
    },
    {
     "name": "stdout",
     "output_type": "stream",
     "text": [
      "150/150 [==============================] - 218s 1s/step - loss: 0.9149 - accuracy: 0.7387 - val_loss: 6.4374 - val_accuracy: 0.3502\n",
      "Epoch 2/65\n",
      "150/150 [==============================] - 132s 879ms/step - loss: 0.4396 - accuracy: 0.8625 - val_loss: 8.0521 - val_accuracy: 0.3227\n",
      "Epoch 3/65\n",
      "150/150 [==============================] - 131s 874ms/step - loss: 0.3714 - accuracy: 0.8785 - val_loss: 4.8544 - val_accuracy: 0.4689\n",
      "Epoch 4/65\n",
      "150/150 [==============================] - 133s 892ms/step - loss: 0.3288 - accuracy: 0.8927 - val_loss: 7.9255 - val_accuracy: 0.3515\n",
      "Epoch 5/65\n",
      "150/150 [==============================] - 132s 879ms/step - loss: 0.3075 - accuracy: 0.8958 - val_loss: 10.1411 - val_accuracy: 0.2851\n",
      "Epoch 6/65\n",
      "150/150 [==============================] - 129s 859ms/step - loss: 0.2845 - accuracy: 0.9079 - val_loss: 6.9104 - val_accuracy: 0.4285\n",
      "Epoch 7/65\n",
      "150/150 [==============================] - 128s 853ms/step - loss: 0.2546 - accuracy: 0.9160 - val_loss: 6.6727 - val_accuracy: 0.4223\n",
      "Epoch 8/65\n",
      "150/150 [==============================] - 129s 865ms/step - loss: 0.2532 - accuracy: 0.9215 - val_loss: 7.6283 - val_accuracy: 0.3934\n",
      "Epoch 9/65\n",
      "150/150 [==============================] - 130s 868ms/step - loss: 0.2463 - accuracy: 0.9167 - val_loss: 7.0383 - val_accuracy: 0.4353\n",
      "Epoch 10/65\n",
      "150/150 [==============================] - 126s 838ms/step - loss: 0.2246 - accuracy: 0.9257 - val_loss: 8.1814 - val_accuracy: 0.3620\n",
      "Epoch 11/65\n",
      "150/150 [==============================] - 127s 846ms/step - loss: 0.2510 - accuracy: 0.9179 - val_loss: 5.5221 - val_accuracy: 0.4857\n",
      "Epoch 12/65\n",
      "150/150 [==============================] - 125s 833ms/step - loss: 0.2145 - accuracy: 0.9292 - val_loss: 5.1931 - val_accuracy: 0.5311\n",
      "Epoch 13/65\n",
      "150/150 [==============================] - 125s 830ms/step - loss: 0.2303 - accuracy: 0.9276 - val_loss: 3.4679 - val_accuracy: 0.6144\n",
      "Epoch 14/65\n",
      "150/150 [==============================] - 125s 833ms/step - loss: 0.2069 - accuracy: 0.9300 - val_loss: 3.7246 - val_accuracy: 0.5459\n",
      "Epoch 15/65\n",
      "150/150 [==============================] - 121s 811ms/step - loss: 0.1948 - accuracy: 0.9354 - val_loss: 1.5190 - val_accuracy: 0.7548\n",
      "Epoch 16/65\n",
      "150/150 [==============================] - 121s 808ms/step - loss: 0.1969 - accuracy: 0.9319 - val_loss: 3.1793 - val_accuracy: 0.6320\n",
      "Epoch 17/65\n",
      "150/150 [==============================] - 127s 850ms/step - loss: 0.1785 - accuracy: 0.9413 - val_loss: 3.5846 - val_accuracy: 0.6160\n",
      "Epoch 18/65\n",
      "150/150 [==============================] - 124s 826ms/step - loss: 0.1857 - accuracy: 0.9388 - val_loss: 3.0758 - val_accuracy: 0.6395\n",
      "Epoch 19/65\n",
      "150/150 [==============================] - 119s 792ms/step - loss: 0.1903 - accuracy: 0.9371 - val_loss: 2.5511 - val_accuracy: 0.6814\n",
      "Epoch 20/65\n",
      "150/150 [==============================] - 120s 804ms/step - loss: 0.2074 - accuracy: 0.9306 - val_loss: 2.1544 - val_accuracy: 0.7217\n",
      "Epoch 21/65\n",
      "150/150 [==============================] - 118s 788ms/step - loss: 0.1866 - accuracy: 0.9377 - val_loss: 1.7145 - val_accuracy: 0.7511\n",
      "Epoch 22/65\n",
      "150/150 [==============================] - 123s 825ms/step - loss: 0.1757 - accuracy: 0.9421 - val_loss: 3.5797 - val_accuracy: 0.6506\n",
      "Epoch 23/65\n",
      "150/150 [==============================] - 122s 814ms/step - loss: 0.1512 - accuracy: 0.9498 - val_loss: 0.7110 - val_accuracy: 0.8680\n",
      "Epoch 24/65\n",
      "150/150 [==============================] - 120s 799ms/step - loss: 0.1833 - accuracy: 0.9385 - val_loss: 0.9168 - val_accuracy: 0.8455\n",
      "Epoch 25/65\n",
      "150/150 [==============================] - 123s 817ms/step - loss: 0.1767 - accuracy: 0.9416 - val_loss: 0.5814 - val_accuracy: 0.8873\n",
      "Epoch 26/65\n",
      "150/150 [==============================] - 123s 823ms/step - loss: 0.1586 - accuracy: 0.9481 - val_loss: 0.6210 - val_accuracy: 0.8783\n",
      "Epoch 27/65\n",
      "150/150 [==============================] - 120s 800ms/step - loss: 0.1641 - accuracy: 0.9471 - val_loss: 0.3824 - val_accuracy: 0.9144\n",
      "Epoch 28/65\n",
      "150/150 [==============================] - 117s 781ms/step - loss: 0.1688 - accuracy: 0.9398 - val_loss: 0.4791 - val_accuracy: 0.8949\n",
      "Epoch 29/65\n",
      "150/150 [==============================] - 117s 780ms/step - loss: 0.1576 - accuracy: 0.9458 - val_loss: 0.4191 - val_accuracy: 0.9074\n",
      "Epoch 30/65\n",
      "150/150 [==============================] - 118s 788ms/step - loss: 0.1598 - accuracy: 0.9502 - val_loss: 0.9178 - val_accuracy: 0.8374\n",
      "Epoch 31/65\n",
      "150/150 [==============================] - 121s 806ms/step - loss: 0.1772 - accuracy: 0.9408 - val_loss: 0.7454 - val_accuracy: 0.8564\n",
      "Epoch 32/65\n",
      "150/150 [==============================] - 122s 816ms/step - loss: 0.1462 - accuracy: 0.9496 - val_loss: 0.5706 - val_accuracy: 0.8793\n",
      "Epoch 33/65\n",
      "150/150 [==============================] - 119s 793ms/step - loss: 0.1636 - accuracy: 0.9450 - val_loss: 0.8177 - val_accuracy: 0.8574\n",
      "Epoch 34/65\n",
      "150/150 [==============================] - 118s 787ms/step - loss: 0.1697 - accuracy: 0.9423 - val_loss: 0.9469 - val_accuracy: 0.8326\n",
      "Epoch 35/65\n",
      "150/150 [==============================] - 117s 780ms/step - loss: 0.1555 - accuracy: 0.9456 - val_loss: 0.6061 - val_accuracy: 0.8808\n",
      "Epoch 36/65\n",
      "150/150 [==============================] - 120s 799ms/step - loss: 0.1523 - accuracy: 0.9479 - val_loss: 0.6770 - val_accuracy: 0.8746\n",
      "Epoch 37/65\n",
      "150/150 [==============================] - 119s 791ms/step - loss: 0.1441 - accuracy: 0.9483 - val_loss: 0.9095 - val_accuracy: 0.8529\n",
      "Epoch 38/65\n",
      "150/150 [==============================] - 120s 802ms/step - loss: 0.1532 - accuracy: 0.9495 - val_loss: 0.8386 - val_accuracy: 0.8502\n",
      "Epoch 39/65\n",
      "150/150 [==============================] - 117s 780ms/step - loss: 0.1512 - accuracy: 0.9463 - val_loss: 1.1256 - val_accuracy: 0.8135\n",
      "Epoch 40/65\n",
      "150/150 [==============================] - 117s 783ms/step - loss: 0.1379 - accuracy: 0.9523 - val_loss: 1.0574 - val_accuracy: 0.8231\n",
      "Epoch 41/65\n",
      "150/150 [==============================] - 121s 808ms/step - loss: 0.1563 - accuracy: 0.9475 - val_loss: 1.4107 - val_accuracy: 0.8095\n",
      "Epoch 42/65\n",
      "150/150 [==============================] - 121s 808ms/step - loss: 0.1363 - accuracy: 0.9521 - val_loss: 0.7577 - val_accuracy: 0.8725\n",
      "Epoch 43/65\n",
      "150/150 [==============================] - 117s 779ms/step - loss: 0.1572 - accuracy: 0.9488 - val_loss: 0.4845 - val_accuracy: 0.9038\n",
      "Epoch 44/65\n",
      "150/150 [==============================] - 118s 788ms/step - loss: 0.1441 - accuracy: 0.9481 - val_loss: 0.5375 - val_accuracy: 0.8934\n",
      "Epoch 45/65\n",
      "150/150 [==============================] - 119s 797ms/step - loss: 0.1263 - accuracy: 0.9567 - val_loss: 0.5431 - val_accuracy: 0.8956\n",
      "Epoch 46/65\n",
      "150/150 [==============================] - 120s 800ms/step - loss: 0.1222 - accuracy: 0.9604 - val_loss: 0.3390 - val_accuracy: 0.9268\n",
      "Epoch 47/65\n",
      "150/150 [==============================] - 117s 782ms/step - loss: 0.1395 - accuracy: 0.9517 - val_loss: 0.4823 - val_accuracy: 0.8968\n",
      "Epoch 48/65\n",
      "150/150 [==============================] - 118s 789ms/step - loss: 0.1313 - accuracy: 0.9581 - val_loss: 0.6619 - val_accuracy: 0.8689\n",
      "Epoch 49/65\n",
      "150/150 [==============================] - 119s 792ms/step - loss: 0.1316 - accuracy: 0.9546 - val_loss: 0.4241 - val_accuracy: 0.9107\n",
      "Epoch 50/65\n",
      "150/150 [==============================] - 123s 820ms/step - loss: 0.1334 - accuracy: 0.9587 - val_loss: 0.3452 - val_accuracy: 0.9158\n",
      "Epoch 51/65\n",
      "150/150 [==============================] - 120s 804ms/step - loss: 0.1379 - accuracy: 0.9525 - val_loss: 0.5299 - val_accuracy: 0.8898\n",
      "Epoch 52/65\n",
      "150/150 [==============================] - 122s 814ms/step - loss: 0.1269 - accuracy: 0.9579 - val_loss: 0.4209 - val_accuracy: 0.9008\n",
      "Epoch 53/65\n",
      "150/150 [==============================] - 118s 784ms/step - loss: 0.1056 - accuracy: 0.9621 - val_loss: 0.2853 - val_accuracy: 0.9273\n",
      "Epoch 54/65\n",
      "150/150 [==============================] - 120s 801ms/step - loss: 0.1197 - accuracy: 0.9585 - val_loss: 0.3268 - val_accuracy: 0.9196\n",
      "Epoch 55/65\n",
      "150/150 [==============================] - 118s 788ms/step - loss: 0.1343 - accuracy: 0.9542 - val_loss: 0.3000 - val_accuracy: 0.9213\n",
      "Epoch 56/65\n",
      "150/150 [==============================] - 120s 799ms/step - loss: 0.1183 - accuracy: 0.9629 - val_loss: 0.2826 - val_accuracy: 0.9253\n",
      "Epoch 57/65\n",
      "150/150 [==============================] - 119s 793ms/step - loss: 0.1042 - accuracy: 0.9658 - val_loss: 0.3675 - val_accuracy: 0.9051\n",
      "Epoch 58/65\n",
      "150/150 [==============================] - 119s 793ms/step - loss: 0.1116 - accuracy: 0.9598 - val_loss: 0.4296 - val_accuracy: 0.8956\n",
      "Epoch 59/65\n",
      "150/150 [==============================] - 121s 809ms/step - loss: 0.1054 - accuracy: 0.9669 - val_loss: 0.3312 - val_accuracy: 0.9083\n",
      "Epoch 60/65\n",
      "150/150 [==============================] - 121s 806ms/step - loss: 0.1112 - accuracy: 0.9618 - val_loss: 0.3757 - val_accuracy: 0.9071\n",
      "Epoch 61/65\n",
      "150/150 [==============================] - 120s 805ms/step - loss: 0.1243 - accuracy: 0.9592 - val_loss: 0.2911 - val_accuracy: 0.9257\n",
      "Epoch 62/65\n",
      "150/150 [==============================] - 118s 784ms/step - loss: 0.1237 - accuracy: 0.9583 - val_loss: 0.2936 - val_accuracy: 0.9282\n",
      "Epoch 63/65\n",
      "150/150 [==============================] - 120s 802ms/step - loss: 0.1142 - accuracy: 0.9610 - val_loss: 0.3857 - val_accuracy: 0.9067\n",
      "Epoch 64/65\n",
      "150/150 [==============================] - 120s 805ms/step - loss: 0.1187 - accuracy: 0.9592 - val_loss: 0.3557 - val_accuracy: 0.9195\n",
      "Epoch 65/65\n",
      "150/150 [==============================] - 123s 818ms/step - loss: 0.1089 - accuracy: 0.9644 - val_loss: 0.3489 - val_accuracy: 0.9212\n"
     ]
    }
   ],
   "source": [
    "history = model.fit(\n",
    "    train_data,\n",
    "    epochs=65,\n",
    "    steps_per_epoch=150,\n",
    "    #callbacks=[early_stopping_cb],\n",
    "    validation_data=valid_data\n",
    ")"
   ]
  },
  {
   "cell_type": "code",
   "execution_count": 14,
   "id": "00cf6935",
   "metadata": {
    "execution": {
     "iopub.execute_input": "2022-04-24T18:17:04.478640Z",
     "iopub.status.busy": "2022-04-24T18:17:04.477389Z",
     "iopub.status.idle": "2022-04-24T18:17:04.744103Z",
     "shell.execute_reply": "2022-04-24T18:17:04.744779Z",
     "shell.execute_reply.started": "2022-03-11T06:43:41.560668Z"
    },
    "papermill": {
     "duration": 3.655161,
     "end_time": "2022-04-24T18:17:04.744969",
     "exception": false,
     "start_time": "2022-04-24T18:17:01.089808",
     "status": "completed"
    },
    "tags": []
   },
   "outputs": [
    {
     "data": {
      "image/png": "[encoded data removed]",
      "text/plain": [
       "<Figure size 432x288 with 1 Axes>"
      ]
     },
     "metadata": {
      "needs_background": "light"
     },
     "output_type": "display_data"
    }
   ],
   "source": [
    "hist = history.history\n",
    "\n",
    "# Plot accuracy and loss\n",
    "plt.plot(hist[\"accuracy\"], label=\"accuracy\")\n",
    "#plt.plot(hist[\"loss\"], label=\"loss\")\n",
    "\n",
    "if \"val_accuracy\" in hist and \"val_loss\" in hist:\n",
    "    plt.plot(hist[\"val_accuracy\"], label=\"val_accuracy\")\n",
    "    #plt.plot(hist[\"val_loss\"], label=\"val_loss\")\n",
    "\n",
    "# Add the labels and legend\n",
    "plt.ylabel(\"Accuracy / Loss\")\n",
    "plt.xlabel(\"Epochs #\")\n",
    "plt.legend()\n",
    "\n",
    "# Finally show the plot\n",
    "plt.show()"
   ]
  },
  {
   "cell_type": "code",
   "execution_count": 15,
   "id": "cc662445",
   "metadata": {
    "execution": {
     "iopub.execute_input": "2022-04-24T18:17:11.925998Z",
     "iopub.status.busy": "2022-04-24T18:17:11.921660Z",
     "iopub.status.idle": "2022-04-24T18:17:12.273003Z",
     "shell.execute_reply": "2022-04-24T18:17:12.272449Z"
    },
    "papermill": {
     "duration": 4.164796,
     "end_time": "2022-04-24T18:17:12.273152",
     "exception": false,
     "start_time": "2022-04-24T18:17:08.108356",
     "status": "completed"
    },
    "tags": []
   },
   "outputs": [
    {
     "name": "stderr",
     "output_type": "stream",
     "text": [
      "/opt/conda/lib/python3.7/site-packages/keras/utils/generic_utils.py:497: CustomMaskWarning: Custom mask layers require a config and must override get_config. When loading, the custom mask layer must be passed to the custom_objects argument.\n",
      "  category=CustomMaskWarning)\n"
     ]
    }
   ],
   "source": [
    "model.save(\"plant.h5\")"
   ]
  },
  {
   "cell_type": "code",
   "execution_count": 16,
   "id": "bfde3dff",
   "metadata": {
    "execution": {
     "iopub.execute_input": "2022-04-24T18:17:19.063765Z",
     "iopub.status.busy": "2022-04-24T18:17:19.038078Z",
     "iopub.status.idle": "2022-04-24T18:18:17.411111Z",
     "shell.execute_reply": "2022-04-24T18:18:17.411671Z",
     "shell.execute_reply.started": "2022-01-15T18:41:30.444753Z"
    },
    "papermill": {
     "duration": 61.72761,
     "end_time": "2022-04-24T18:18:17.411858",
     "exception": false,
     "start_time": "2022-04-24T18:17:15.684248",
     "status": "completed"
    },
    "tags": []
   },
   "outputs": [
    {
     "name": "stdout",
     "output_type": "stream",
     "text": [
      "550/550 [==============================] - 56s 101ms/step - loss: 0.3489 - accuracy: 0.9212\n"
     ]
    },
    {
     "data": {
      "text/plain": [
       "[0.34885257482528687, 0.921238362789154]"
      ]
     },
     "execution_count": 16,
     "metadata": {},
     "output_type": "execute_result"
    }
   ],
   "source": [
    "loaded_model = tf. keras. models. load_model(\"./plant.h5\")\n",
    "loaded_model.evaluate(valid_data)"
   ]
  },
  {
   "cell_type": "code",
   "execution_count": 17,
   "id": "4c9e3f50",
   "metadata": {
    "execution": {
     "iopub.execute_input": "2022-04-24T18:18:24.489753Z",
     "iopub.status.busy": "2022-04-24T18:18:24.489009Z",
     "iopub.status.idle": "2022-04-24T18:18:24.770530Z",
     "shell.execute_reply": "2022-04-24T18:18:24.769897Z",
     "shell.execute_reply.started": "2022-01-15T16:51:52.951745Z"
    },
    "papermill": {
     "duration": 3.822149,
     "end_time": "2022-04-24T18:18:24.770691",
     "exception": false,
     "start_time": "2022-04-24T18:18:20.948542",
     "status": "completed"
    },
    "tags": []
   },
   "outputs": [
    {
     "data": {
      "text/plain": [
       "<matplotlib.image.AxesImage at 0x7f3da00a07d0>"
      ]
     },
     "execution_count": 17,
     "metadata": {},
     "output_type": "execute_result"
    },
    {
     "data": {
      "image/png": "[encoded data removed]",
      "text/plain": [
       "<Figure size 432x288 with 1 Axes>"
      ]
     },
     "metadata": {
      "needs_background": "light"
     },
     "output_type": "display_data"
    }
   ],
   "source": [
    "from tensorflow.keras.applications.resnet50 import preprocess_input\n",
    "img_path = \"../input/new-plant-diseases-dataset/test/test/PotatoHealthy1.JPG\"\n",
    "img = image.load_img(img_path, target_size=(224, 224))\n",
    "img = image.img_to_array(img)\n",
    "img_batch = np.expand_dims(img, axis=0)\n",
    "img_preprocessed = preprocess_input(img_batch)\n",
    "plt.imshow(img)"
   ]
  },
  {
   "cell_type": "code",
   "execution_count": 18,
   "id": "92904613",
   "metadata": {
    "execution": {
     "iopub.execute_input": "2022-04-24T18:18:32.973213Z",
     "iopub.status.busy": "2022-04-24T18:18:32.972089Z",
     "iopub.status.idle": "2022-04-24T18:18:33.949363Z",
     "shell.execute_reply": "2022-04-24T18:18:33.948818Z",
     "shell.execute_reply.started": "2022-01-15T16:51:53.505486Z"
    },
    "papermill": {
     "duration": 5.271978,
     "end_time": "2022-04-24T18:18:33.949536",
     "exception": false,
     "start_time": "2022-04-24T18:18:28.677558",
     "status": "completed"
    },
    "tags": []
   },
   "outputs": [
    {
     "name": "stdout",
     "output_type": "stream",
     "text": [
      "4\n"
     ]
    }
   ],
   "source": [
    "predicted_class = np.argmax(model.predict(img_preprocessed))\n",
    "print(predicted_class)"
   ]
  },
  {
   "cell_type": "code",
   "execution_count": 19,
   "id": "6c023940",
   "metadata": {
    "execution": {
     "iopub.execute_input": "2022-04-24T18:18:41.437430Z",
     "iopub.status.busy": "2022-04-24T18:18:41.436345Z",
     "iopub.status.idle": "2022-04-24T18:18:41.443169Z",
     "shell.execute_reply": "2022-04-24T18:18:41.442672Z",
     "shell.execute_reply.started": "2022-01-15T16:51:53.526914Z"
    },
    "papermill": {
     "duration": 3.565416,
     "end_time": "2022-04-24T18:18:41.443305",
     "exception": false,
     "start_time": "2022-04-24T18:18:37.877889",
     "status": "completed"
    },
    "tags": []
   },
   "outputs": [
    {
     "data": {
      "text/html": [
       "<a href='categories.json' target='_blank'>categories.json</a><br>"
      ],
      "text/plain": [
       "/kaggle/working/categories.json"
      ]
     },
     "execution_count": 19,
     "metadata": {},
     "output_type": "execute_result"
    }
   ],
   "source": [
    "import json\n",
    "from IPython.display import FileLink\n",
    "with open(\"categories.json\", \"w\") as file:\n",
    "  json.dump(train_data.class_indices, file)\n",
    "FileLink(\"categories.json\")"
   ]
  },
  {
   "cell_type": "code",
   "execution_count": null,
   "id": "e2e36da7",
   "metadata": {
    "execution": {
     "iopub.status.busy": "2022-01-15T16:51:53.54291Z",
     "iopub.status.idle": "2022-01-15T16:51:53.543402Z",
     "shell.execute_reply": "2022-01-15T16:51:53.543173Z",
     "shell.execute_reply.started": "2022-01-15T16:51:53.543135Z"
    },
    "papermill": {
     "duration": 4.014042,
     "end_time": "2022-04-24T18:18:49.092268",
     "exception": false,
     "start_time": "2022-04-24T18:18:45.078226",
     "status": "completed"
    },
    "tags": []
   },
   "outputs": [],
   "source": []
  },
  {
   "cell_type": "code",
   "execution_count": null,
   "id": "b545994e",
   "metadata": {
    "execution": {
     "iopub.status.busy": "2022-01-15T16:51:53.55018Z",
     "iopub.status.idle": "2022-01-15T16:51:53.551334Z",
     "shell.execute_reply": "2022-01-15T16:51:53.550891Z",
     "shell.execute_reply.started": "2022-01-15T16:51:53.550853Z"
    },
    "papermill": {
     "duration": 3.559683,
     "end_time": "2022-04-24T18:18:56.409224",
     "exception": false,
     "start_time": "2022-04-24T18:18:52.849541",
     "status": "completed"
    },
    "tags": []
   },
   "outputs": [],
   "source": []
  },
  {
   "cell_type": "code",
   "execution_count": null,
   "id": "aa081d2d",
   "metadata": {
    "execution": {
     "iopub.status.busy": "2022-01-15T16:51:53.562972Z",
     "iopub.status.idle": "2022-01-15T16:51:53.564235Z",
     "shell.execute_reply": "2022-01-15T16:51:53.563881Z",
     "shell.execute_reply.started": "2022-01-15T16:51:53.563838Z"
    },
    "papermill": {
     "duration": 3.966582,
     "end_time": "2022-04-24T18:19:04.283254",
     "exception": false,
     "start_time": "2022-04-24T18:19:00.316672",
     "status": "completed"
    },
    "tags": []
   },
   "outputs": [],
   "source": []
  },
  {
   "cell_type": "code",
   "execution_count": null,
   "id": "97df9877",
   "metadata": {
    "papermill": {
     "duration": 3.935307,
     "end_time": "2022-04-24T18:19:12.052741",
     "exception": false,
     "start_time": "2022-04-24T18:19:08.117434",
     "status": "completed"
    },
    "tags": []
   },
   "outputs": [],
   "source": []
  }
 ],
 "metadata": {
  "kernelspec": {
   "display_name": "Python 3",
   "language": "python",
   "name": "python3"
  },
  "language_info": {
   "codemirror_mode": {
    "name": "ipython",
    "version": 3
   },
   "file_extension": ".py",
   "mimetype": "text/x-python",
   "name": "python",
   "nbconvert_exporter": "python",
   "pygments_lexer": "ipython3",
   "version": "3.7.12"
  },
  "papermill": {
   "default_parameters": {},
   "duration": 8972.655566,
   "end_time": "2022-04-24T18:19:18.928514",
   "environment_variables": {},
   "exception": null,
   "input_path": "__notebook__.ipynb",
   "output_path": "__notebook__.ipynb",
   "parameters": {},
   "start_time": "2022-04-24T15:49:46.272948",
   "version": "2.3.3"
  }
 },
 "nbformat": 4,
 "nbformat_minor": 5
}
